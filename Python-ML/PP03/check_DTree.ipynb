{
 "metadata": {
  "name": "check_DTree"
 }, 
 "nbformat": 2, 
 "worksheets": [
  {
   "cells": [
    {
     "cell_type": "code", 
     "collapsed": true, 
     "input": [
      "from code.dectree.DTree import get_tree", 
      "import pandas as pd", 
      "ratings_train = pd.load('input_data/ratings_train.pda')", 
      "ratings_test = pd.load('input_data/ratings_test.pda')"
     ], 
     "language": "python", 
     "outputs": [], 
     "prompt_number": 1
    }, 
    {
     "cell_type": "code", 
     "collapsed": true, 
     "input": [
      "ratings_train.pop('rating')", 
      "ratings_train.pop('userid')", 
      "_junk=ratings_train.pop('itemid')"
     ], 
     "language": "python", 
     "outputs": [], 
     "prompt_number": 2
    }, 
    {
     "cell_type": "code", 
     "collapsed": false, 
     "input": [
      "dt=get_tree(ratings_train,'isgood')"
     ], 
     "language": "python", 
     "outputs": [
      {
       "output_type": "stream", 
       "stream": "stdout", 
       "text": [
        "[(1, 0.44611902395936842), (2, 0.39615766810202052), (3, 0.38760075080048584), (4, 0.38368113061720216), (5, 0.37992712818814178), (6, 0.37716683228442088), (7, 0.37153582864083029), (8, 0.36987965109859777), (9, 0.36700894335872808), (10, 0.36513194214419786)]"
       ]
      }
     ], 
     "prompt_number": 3
    }, 
    {
     "cell_type": "code", 
     "collapsed": false, 
     "input": [
      "print dt.optimal_depth", 
      "preds=dt.predict(ratings_test)", 
      "preds=pd.DataFrame({'preds':preds})", 
      "preds.groupby('preds').size()"
     ], 
     "language": "python", 
     "outputs": [
      {
       "output_type": "stream", 
       "stream": "stdout", 
       "text": [
        "10"
       ]
      }, 
      {
       "output_type": "pyout", 
       "prompt_number": 4, 
       "text": [
        "preds", 
        "-1       3623", 
        " 1       5807"
       ]
      }
     ], 
     "prompt_number": 4
    }, 
    {
     "cell_type": "code", 
     "collapsed": true, 
     "input": [], 
     "language": "python", 
     "outputs": []
    }
   ]
  }
 ]
}