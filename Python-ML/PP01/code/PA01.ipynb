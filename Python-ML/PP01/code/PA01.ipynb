{
 "metadata": {
  "name": "PA01"
 }, 
 "nbformat": 2, 
 "worksheets": [
  {
   "cells": [
    {
     "cell_type": "markdown", 
     "source": [
      "##CMSC726 Programming Assignment 1: Decision Trees, K-NN and inductive bias", 
      "", 
      "In this programming assignment you will implement the Decision Tree method and experiment with it and ", 
      "K-nearest neighbors. You will use k-nn code and the spam dataset from the knn ", 
      "[practical session of September 7.](http://cbcb.umd.edu/~hcorrada/PML/src/knn.ipynb) Questions are shown", 
      "<font color=#ff3300>in this color.</font> Please address everything marked TODO below.", 
      "", 
      "Start early, and ask questions often."
     ]
    }, 
    {
     "cell_type": "markdown", 
     "source": [
      "###Part I: The decision tree algorithm", 
      "", 
      "<font color=#ff3300>Implement the decision tree algorithm as presented in CIML, including treedepth as a hyper-parameter. Recall that", 
      "features in the spam dataset are continuous, so you need to figure out how to deal with those. Please disscuss below how you", 
      "did that. Also, Insert the code here, e.g.:</font>"
     ]
    }, 
    {
     "cell_type": "markdown", 
     "source": [
      "TODO: Discuss how you dealt with continues features", 
      "", 
      "ANSWER: At first I thought that it would be a good idea to split each feature at its median value. Afterwards, I'd compute the gain of each feature", 
      "and sort the features according to their gain in descending order. However, this is not a good idea. There is not a single good reason for which the ", 
      "optimal gain for each feature has to be found, e.g., in the median, the mean, or the $k_{th}$ percentile of the feature values. It is pretty much", 
      "guaranteed that every feature will be different in that respect. So the question arises of how to compute the optimal split point for each feature.", 
      "", 
      "I ended up trusting an algorithm that finds the optimal split point of every feature by considering example pairs that differ in their feature", 
      "values and labels. In effect, for every feature, this algorithm sorts the examples according to feature value, then considers every adjacent feature pair", 
      "$e_1, e_2$. If a feature pair differs in both feature value and label, then the value of the feature at example $e_2$ is a *candidate split point*  for the feature", 
      "in its entirety.", 
      "", 
      "In pseudocode:", 
      "", 
      "    for every feature f", 
      "        sort training examples according to their values at f", 
      "        for every adjacent examples (e1, e2)", 
      "            if(e1.f != e2.f && e1.label != e2.label)", 
      "                score_of_e2 =  score for examples above e2.f + score of examples below e2.f", 
      "                if score_of_e2 > maximum_score_computed", 
      "                    maximum_score_computed = score_of_e2", 
      "                    best_split_point = e2", 
      "                end if", 
      "             end if", 
      "         end for", 
      "         best_split_point_in_feature = best_split_point", 
      "         best_split_point_score = maximum_score_computed"
     ]
    }, 
    {
     "cell_type": "markdown", 
     "source": [
      "TODO: add source code"
     ]
    }, 
    {
     "cell_type": "markdown", 
     "source": [
      "<pre><code>", 
      "'''", 
      "Created on Sep 17, 2012", 
      "", 
      "@author: jason", 
      "'''", 
      "", 
      "from __future__ import division             # used to receive accurate floating-point quotients when dividing integers/longs", 
      "import numpy as np", 
      "import pickle as pk", 
      "import pandas as pd", 
      "import copy", 
      "import util", 
      "import gc", 
      "import mlExceptions as mlex", 
      "from mlExceptions import LogicalError", 
      "", 
      "class Node:", 
      "    ", 
      "    '''", 
      "    This class represents both the decision tree's inner and leaf nodes.", 
      "    Leaf nodes are discerned by the \"isLeaf\" boolean variable and are also", 
      "    labeled with the prediction (\"label\") variable for that particular path", 
      "    of the decision tree. They are connected to their children by Node pointers", 
      "    \"left\" and \"right\", which are null by default and remain such for leaf nodes.", 
      "    ", 
      "    '''", 
      "    left, right = None, None", 
      "    ", 
      "    def __init__(self, feature, split_point, left = None, ", 
      "                 right = None, isLeaf = False, label = None ):", 
      "        '''", 
      "         Constructor", 
      "        '''", 
      "        self.feature = feature                           # feature splitted at (only makes sense for inner nodes)", 
      "        self.split_point = split_point                   # split point for feature (only makes sense for inner nodes)", 
      "        self.isLeaf = isLeaf                             # boolean flag to indicate a leaf node", 
      "        self.label = label                               # label of example (only makes sense for leaf nodes)", 
      "        self.left = left                                 # pointers to left and right children (null for leaf nodes)", 
      "        self.right = right", 
      "        ", 
      "class DecisionTree: ", 
      "    ", 
      "    '''", 
      "    The DecisionTree class is the implementation of the Decision Tree classifier. Included", 
      "    are private methods for computation of the optimal feature at each step, creation of inner", 
      "    and leaf nodes, as well as public methods for training, tuning and testing the classifier.", 
      "    ", 
      "    The decision tree represented by this class is a shallow decision tree of depth \"depth\" and ", 
      "    has been extended to use both score and information gain to estimate the split point quality.", 
      "    ", 
      "    The \"root\" Node object represents the root of the tree. It is initialized to None by the", 
      "    constructor of the class.", 
      "    ", 
      "    The two most interesting methods in this class are:", 
      "        1) __sortFeatures__ : Sorting of the dataset's features according to score or information gained. This", 
      "            method implements the algorithm described on \"PA01.ipynb\".", 
      "        2) __trainRec__ : Implementation of the decision tree training algorithm, as described on CIML.", 
      "        ", 
      "    '''", 
      "    def __init__(self, dataset, depth = 5, useInfoGain = False):", 
      "        ", 
      "        '''", 
      "        Description: Constructor.", 
      "        ", 
      "        The constructor only checks to see whether the depth parameter is above zero. We follow a lazy approach with", 
      "        respect to the dataset being empty or not, by making this check only if the user decides to train one particular", 
      "        decision tree object on the data.", 
      "        ", 
      "        Arguments: ", 
      "            dataset: pandas.DataFrame. The training dataset.", 
      "            depth: The maximum depth that the decision tree is allowed to reach. Default 5.", 
      "            useInfoGain: Boolean flag that states whether the user wants the split point quality to be measured", 
      "                in terms of Information Gain, as opposed to the default of node \"score\" (majority vote of splitted labels)", 
      "        '''", 
      "        ", 
      "        if depth <= 0 or not isinstance(depth, (int, long)):", 
      "            raise mlex.LogicalError(\"Depth parameter has to be a positive integer\")", 
      "        self.dataset = dataset", 
      "        self.depth = depth ", 
      "        self.useInfoGain = useInfoGain", 
      "        self.root = None", 
      "              ", 
      "              ", 
      "    def __str__(self):", 
      "        ", 
      "        '''", 
      "        Description: Stringifying method.  Converts the classifier to a string representation.", 
      "        Arguments: None", 
      "        Return value: A string, presumably with some data about this object.", 
      "        '''", 
      "        return 'A decision tree classifier of depth ' + self.depth", 
      "    ", 
      "               ", 
      "    def __selectFeature__(self, trainingData, features):", 
      "    ", 
      "        '''", 
      "        Description: Select the best feature found by self.__sortFeatures__", 
      "        ", 
      "        Arguments:", 
      "            trainingData: pandas.DataFrame. The training data available", 
      "            at the current level of the tree.", 
      "            features: a list of features to select from", 
      "        ", 
      "        Return value:", 
      "        A tuple (feature, split_point), where feature is the highest", 
      "        scoring feature on trainingData, and split_point is the", 
      "        split point which yielded that score.", 
      "        '''", 
      "         ", 
      "        # Just run self.__sortFeatures__ and then pick the ", 
      "        # first value in the returned list.", 
      "            ", 
      "        return self.__sortFeatures__(trainingData, features)[0]", 
      "    ", 
      "    def __sortFeatures__(self, trainingData, features):", 
      "    ", 
      "        '''", 
      "        Description: Similar to selectFeature, ", 
      "        only difference being that the features are", 
      "        stored in a list alongside their scores, and then ", 
      "        the list is sorted according to the scores. ", 
      "    ", 
      "        ", 
      "        Arguments:", 
      "            trainingData: pandas.DataFrame. The training data available", 
      "            at the current level of the tree.", 
      "            features: a list of features to sort in descending score order", 
      "            useInfoGain: a flag, by default False, which indicates whether information gain", 
      "                is the default split point quality measure (as opposed to the default of score)", 
      "        ", 
      "        Return value:", 
      "        A sorted list of tuples (feature, split_point). ", 
      "        '''", 
      "        ", 
      "        featureList = []                                        # the tuple list that we will return ", 
      "        for featureName in features:                            # loop through all features", 
      "            if featureName == 'spam':                           # label not a feature!", 
      "                continue", 
      "            bestFeatureSplit = None                             # initialize best split for this feature", 
      "            bestFeatureSplitScore = 0", 
      "            tempCopy = copy.deepcopy(trainingData[featureName]) # worried about sorting an argument in place", 
      "            tempCopy.sort()", 
      "            tempCopy = tempCopy[::-1].dropna()                  # I prefer descending order and I don't consider null values", 
      "            for i in range(tempCopy.index.size):                # loop through all examples in pairs", 
      "                if i == tempCopy.index.size -1:                 # avoid memory leak when encountering last example", 
      "                    break                  ", 
      "                        ", 
      "                # Important: Note the difference between", 
      "                # indexing the index and indexing the data", 
      "                             ", 
      "                exampleIndex1 = tempCopy.index[i]", 
      "                exampleIndex2 = tempCopy.index[i + 1]           # retrieve the indices of the two examples", 
      "                example1 = trainingData.ix[exampleIndex1, :]    # and the two examples themselves", 
      "                example2 = trainingData.ix[exampleIndex2, :]", 
      "        ", 
      "                # if the two adjacent examples differ in BOTH label", 
      "                # and feature value, calculate the score for the two sub-datasets", 
      "                # If you need to use information gain, add \"True\" as the second argument", 
      "                # to self.__calculateScore__.", 
      "                ", 
      "                if(example1['spam'] != example2['spam'] and ", 
      "                   example1[featureName] != example2[featureName]):", 
      "                    if self.useInfoGain == False:", 
      "                        ", 
      "                        # Use score for current node ", 
      "                        ", 
      "                        scoreLarger = self.__calculateScore__(trainingData[trainingData[featureName] >= ", 
      "                                                                  example2[featureName]])", 
      "                        scoreSmaller = self.__calculateScore__(trainingData[trainingData[featureName] < ", 
      "                                                                  example2[featureName]])", 
      "                        totalScore = scoreLarger + scoreSmaller", 
      "                    else:", 
      "                        ", 
      "                        # Use Information Gain for current node", 
      "            ", 
      "                        # First, compute cardinalities to weight info gain appropriately", 
      "                        ", 
      "                        cardinalityLarger = trainingData[trainingData[featureName] >= example2[featureName]].shape[0]", 
      "                        cardinalitySmaller = trainingData[trainingData[featureName] < example2[featureName]].shape[0]", 
      "                        cardinalityCurrent = trainingData.shape[0]", 
      "                        fractionLarger = cardinalityLarger / cardinalityCurrent", 
      "                        fractionSmaller = cardinalitySmaller / cardinalityCurrent", 
      "                        # Second, compute all entropies", 
      "                        ", 
      "                        currentEntropy = self.__calculateEntropy__(trainingData)", 
      "                        entropyLarger =  self.__calculateEntropy__(trainingData[trainingData[featureName] >= example2[featureName]])", 
      "                        entropySmaller = self.__calculateEntropy__(trainingData[trainingData[featureName] < example2[featureName]])", 
      "                        ", 
      "                        # Third, compute information gain based on both entropies and cardinalities", 
      "                        ", 
      "                        totalScore = currentEntropy - (fractionLarger* entropyLarger + fractionSmaller* entropySmaller)", 
      "                                                ", 
      "                    if(totalScore > bestFeatureSplitScore):", 
      "                        bestFeatureSplitScore = totalScore      # update best split score", 
      "                        bestFeatureSplit = example2[featureName]", 
      "                    ", 
      "            # end of for loop that scans through examples", 
      "            # we now have data that helps us see whether we improved upon", 
      "            # our already existing \"best\" feature", 
      "            ", 
      "            featureList.append((featureName, bestFeatureSplit, bestFeatureSplitScore))", 
      "        ", 
      "        # end of for loop that scans through features", 
      "        ", 
      "        return sorted(featureList, key=lambda data: data[2])[::-1]", 
      "    ", 
      "    # end of method    ", 
      "    ", 
      "    def __calculateScore__(self, dataset):", 
      "    ", 
      "        '''", 
      "        Description: Given a continuous feature vector (column)", 
      "        in the data and a split point, calculate the quality of", 
      "        the splitting. Metric used: score (majority vote of labels on", 
      "        either side of the splitting       ", 
      "        Arguments: ", 
      "            dataset: pandas.DataFrame        ", 
      "        Return value: The score of the feature ", 
      "        '''", 
      "        ", 
      "        if dataset.shape[0] == 0:                                          # If there are no rows to calculate a score from, return a score of zero", 
      "            return 0       ", 
      "", 
      "        if 1 in dataset.groupby('spam').shape.keys():", 
      "            positiveExampleCount = dataset.groupby('spam').shape[1][0]", 
      "        else:", 
      "            positiveExampleCount = 0", 
      "        if -1 in dataset.groupby('spam').shape.keys():", 
      "            negativeExampleCount = dataset.groupby('spam').shape[-1][0]", 
      "        else:", 
      "            negativeExampleCount = 0 ", 
      "        return max([positiveExampleCount, negativeExampleCount])       # python's default max faster than numpy.max for simple lists ", 
      "        ", 
      "            ", 
      "    def __calculateEntropy__(self, dataset):", 
      "        ", 
      "        '''", 
      "        Description: Calculate the entropy of a given dataset. ", 
      "        Arguments: ", 
      "            dataset: pandas.DataFrame", 
      "        Return value: the entropy of the dataset (float)", 
      "        '''", 
      "        if dataset.shape[0] == 0:", 
      "            # raise mlex.DatasetError(\"Cannot compute the entropy of an empty dataset.\")", 
      "            return 0                                                    # TODO: check whether this is correct", 
      "        if 1 in dataset.groupby('spam').shape.keys():", 
      "                positiveExampleCount = dataset.groupby('spam').shape[1][0]", 
      "        else:", 
      "                positiveExampleCount = 0", 
      "        if -1 in dataset.groupby('spam').shape.keys():", 
      "                negativeExampleCount = dataset.groupby('spam').shape[-1][0]", 
      "        else:", 
      "                negativeExampleCount = 0", 
      "        ", 
      "        positivesFraction = positiveExampleCount / dataset.shape[0]     # division library will take care of quotients", 
      "        negativesFraction = negativeExampleCount / dataset.shape[0]", 
      "        return -positivesFraction * np.log2(positivesFraction) -negativesFraction* np.log2(negativesFraction)", 
      "    ", 
      "    def train(self):", 
      "        ", 
      "        '''", 
      "        Description: Train the decision tree on the dataset provided.", 
      "            Merely a wrapper for the private method __trainRec__, which implements", 
      "            the recursive decision tree training algorithm outlined in CIML.", 
      "            Training only takes place if the dataset is not empty.", 
      "        Arguments: None", 
      "        Return value: None", 
      "        '''", 
      "        if self.dataset.shape[0] > 0:", 
      "            allFeatures = self.dataset.columns[0: self.dataset.columns.size -1]", 
      "            self.root = self.__trainRec__(self.dataset, allFeatures.tolist(), self.depth, 1)", 
      "        else:", 
      "            print \"No training data provided.\"", 
      "            return", 
      "            ", 
      "    def __trainRec__(self, dataset, features, depth, currentDepth): # Not to be confused with train wrecks.", 
      "        ", 
      "        '''", 
      "        Description: Execute the decision tree training algorithm ", 
      "            as described on CIML. Recursive method.", 
      "        ", 
      "        Arguments:", 
      "            dataset: the portion of the dataset available at the current tree node.", 
      "            features: a list of features to split at", 
      "            depth: the maximun depth of the (shallow) decision tree", 
      "            ", 
      "        Return value: Node", 
      "        '''", 
      "        ", 
      "        # The first thing that we need to do is ensure that the dataset is not empty. At this point,", 
      "        # this can only occur if the parent node made a perfect split and we just happen to be on the", 
      "        # losers' part of it. In this case, the caller itself has to be turned into a leaf node, whose ", 
      "        # label is the label corresponding to the path other than the one followed to reach the present", 
      "        # stack frame.", 
      "        ", 
      "        if dataset.shape[0] == 0:", 
      "            raise mlex.DatasetError(\"Cannot split an empty dataset\")", 
      "        ", 
      "        # If you had to make a prediction now, what would it be?", 
      "        ", 
      "        label = self.__majorityLabel__(dataset)", 
      "     ", 
      "        # Termination conditions of the training algorithm:", 
      "        #     1) no more features to examine", 
      "        #     2) Data is completely unambiguous, so you don't need to split any further", 
      "        #     3) Maximum depth of decision tree reached: not allowed to split any further.", 
      "        #     4) The dataset is empty because the parent splitting provided us with no data whatsoever", 
      "        #        (see exception above for more).", 
      "        ", 
      "        if features == [] or self.__dataUnambiguous__(dataset) or currentDepth == depth: ", 
      "            return self.__addNode__(None, None, None, None, True, label)    # no features, split point and children nodes in a leaf node", 
      "        ", 
      "        # Run feature selection algorithm on the current dataset and feature vector", 
      "        ", 
      "        (bestFeature, splitPoint, splitScore) = self.__selectFeature__(dataset, features) # We don't really use splitScore", 
      "        ", 
      "        # split data based on feature", 
      "        ", 
      "        positiveData = dataset[dataset[bestFeature] >= splitPoint]  ", 
      "        negativeData = dataset[dataset[bestFeature] < splitPoint]", 
      "        ", 
      "        # Remove the feature we just splitted on. ", 
      "                          ", 
      "        featureCopy = copy.deepcopy(features)", 
      "        featureCopy.remove(bestFeature)", 
      "        ", 
      "        # Recursive call for both 'positive' and 'negative' splits. ", 
      "        ", 
      "        try:", 
      "            left_child = self.__trainRec__(negativeData, featureCopy, depth, currentDepth + 1)", 
      "        except mlex.DatasetError: ", 
      "            ", 
      "            # The node itself is redundant and can be deleted. Its positive leaf node child takes its place.", 
      "            ", 
      "            return self.__addNode__(None, None, None, None, True, 1)", 
      "            ", 
      "        try:", 
      "            right_child = self.__trainRec__(positiveData, featureCopy, depth, currentDepth + 1)", 
      "        except mlex.DatasetError:", 
      "            ", 
      "            # Again, this node is redundant, so we replace it with its negative leaf node.", 
      "        ", 
      "            return self.__addNode__(None,  None, None, None, True, -1)", 
      "        ", 
      "        # creation and return of the decision tree node", 
      "        ", 
      "        return self.__addNode__(bestFeature, splitPoint, left_child, right_child)", 
      "    ", 
      "        # end of method", 
      "        ", 
      "    def __addNode__(self, feature, split_point, left_child, right_child, isLeaf = False, label=None):", 
      "        ", 
      "        '''", 
      "        Description: Create and return a new node in the decision tree. The node", 
      "        can be either an inner (splitter) node or a leaf node.", 
      "        ", 
      "        Arguments: ", 
      "            feature: the feature represented by the node (only makes sense for splitter nodes)", 
      "            split_point: the value at which the feature is splitted", 
      "            isLeaf: optional boolean flag indicating whether the node is a leaf node", 
      "            label: optional labeling of the (leaf) node", 
      "            ", 
      "        Returns: Node", 
      "        '''", 
      "        return Node(feature, split_point, left_child, right_child, isLeaf, label)", 
      "    ", 
      "    def __majorityLabel__(self, dataset):", 
      "        ", 
      "        '''", 
      "        Description: Return the majority label of a given dataset", 
      "        Arguments:", 
      "            dataset: pandas.DataFrame", 
      "        Returns: An integer representing the majority label of dataset.", 
      "        '''", 
      "        ", 
      "        # If the caller provides an empty dataset, throw an exception", 
      "        ", 
      "        if dataset.shape[0] == 0:", 
      "            raise mlex.DatasetError(\"Cannot compute majority label from an empty dataset.\")", 
      "        ", 
      "        # Calculate and return majority label", 
      "        ", 
      "        if 1 in dataset.groupby('spam').shape.keys():", 
      "            positiveLabelCount = dataset.groupby('spam').shape[1][0]", 
      "        else:", 
      "            positiveLabelCount = 0", 
      "        if -1 in dataset.groupby('spam').shape.keys():", 
      "            negativeLabelCount = dataset.groupby('spam').shape[-1][0]", 
      "        else:", 
      "            negativeLabelCount = 0", 
      "        if positiveLabelCount !=negativeLabelCount:", 
      "            return np.sign(positiveLabelCount - negativeLabelCount) ", 
      "        else: ", 
      "            return 2 * np.random.randint(0, 2) - 1                          # flip a coin if classes have equal count", 
      "                 ", 
      "                     ", 
      "    ", 
      "    def __dataUnambiguous__(self, dataset):", 
      "        ", 
      "        '''", 
      "        Description: Estimate whether the provided data is unambiguously labeled, i.e has ", 
      "            positive or negative labels only.", 
      "        Arguments:", 
      "            dataset: pandas.DataFrame", 
      "        Returns: True if data unambiguous, False otherwise.", 
      "        '''", 
      "        # If the caller provides an empty dataset, throw an exception.", 
      "        ", 
      "        if dataset.shape[0] == 0:", 
      "            raise mlex.DatasetError(\"Cannot estimate whether an empty dataset is unambiguous\")", 
      "        ", 
      "        # Dataset is unambiguous if either label is absent.", 
      "        ", 
      "        return 1 not in dataset.groupby('spam').shape.keys() or -1 not in dataset.groupby('spam').shape.keys()", 
      "    ", 
      "    ", 
      "    def classifyWithAllDepths(self, testPoints):", 
      "        ", 
      "        '''", 
      "        Description: Classify a set of testing examples using all the different trees that were", 
      "                trained with different depths during tuning. Useful for understanding the relationship", 
      "                between development (tuning) error and generalization (testing) error. If no tuning", 
      "                has taken place, this method informs the user and falls back to self.classify.", 
      "        Arguments: testPoints: pandas.DataFrame", 
      "        Return Value: None, but plenty of printings.", 
      "        '''", 
      "        ", 
      "        if testPoints.shape[0] == 0:", 
      "            raise LogicalError(\"Cannot classify an empty dataset.\")", 
      "        testPointLabels = testPoints['spam'].values", 
      "        self.tests = []                                   # keep track of test data, the same way you do with tune data", 
      "        if self.tunings == None:", 
      "            print \"Dataset hasn't been tuned, performing classification with default depth of \" + str(self.depth) + \" instead...\"", 
      "            classifications = self.classify(testPoints)", 
      "            testingError = np.mean ( (testPointLabels * classifications) < 0)", 
      "            print \"Testing error of decision tree is: \" + str(testingError)", 
      "            self.tests.append((self.depth, testingError))", 
      "            return ", 
      "        else:", 
      "            tempTreeStore = self.root     # Hold the current tree somewhere, because we will be changing the root pointer a lot. ", 
      "            for tuningData in self.tunings:", 
      "                print \"Classifying with depth: \" + str(tuningData[0]) + \".\"", 
      "                print \"For this depth, the tuning error was: \" + str(tuningData[1]) + \".\"", 
      "                self.root = tuningData[2]", 
      "                classifications = self.classify(testPoints)", 
      "                testingError = np.mean ( (testPointLabels * classifications) < 0)", 
      "                print \"Testing error of this decision tree is: \" + str(testingError)", 
      "                self.tests.append((tuningData[0], testingError))", 
      "            self.root = tempTreeStore", 
      "        print \"Estimated training error with all different depths.\"", 
      "        ", 
      "    def classify(self, testPoints):", 
      "        ", 
      "        '''", 
      "        Description: Classify a set of testing examples using the trained decision tree.", 
      "            A wrapper for the recursive function self.__classifyRec__, which implements the CIML algorithm.", 
      "        Arguments: ", 
      "            testPoints: pandas.DataFrame", 
      "        Returns:", 
      "            The classification of each test point (1 for spam and -1 for not spam)", 
      "        '''", 
      "        if testPoints.shape[0] == 0:", 
      "            print \"Please provide an example to test\"", 
      "            return None", 
      "        elif self.root == None:", 
      "            print \"Decision tree hasn't been trained on data.\" # I could offer to flip a coin for each testing example,", 
      "            return None                                        # but I thought it wasn't worth the effort", 
      "        else:                                      ", 
      "            classifications = []", 
      "            for testPointIndex in testPoints.index:", 
      "                testPoint = testPoints.ix[testPointIndex]", 
      "                classifications.append(self.__classifyRec__(self.root, testPoint))", 
      "            return classifications", 
      "        ", 
      "    def __classifyRec__(self, node, testPoint):", 
      "        ", 
      "        '''", 
      "        Description: Classify ONE testing example using the recursive algorithm outlined in CIML.", 
      "        Arguments: ", 
      "            tree: pandas.Series", 
      "        Return value: (after recursion) Classification of test point (1 for spam, -1 otherwise)", 
      "        '''", 
      "        if node.isLeaf == True:", 
      "            return node.label", 
      "        else:", 
      "            if testPoint[node.feature] < node.split_point:", 
      "                return self.__classifyRec__(node.left, testPoint)", 
      "            else:", 
      "                return self.__classifyRec__(node.right, testPoint)", 
      "            ", 
      "            ", 
      "    def dump(self, filePath):", 
      "        ", 
      "        \"\"\"", 
      "        Description: store the current object to a file. Stolen verbatim from project description. Pickle library used.", 
      "        Arguments:", 
      "            filePath: String representing the path to the output file.", 
      "        Return value: None", 
      "", 
      "        \"\"\"", 
      "        try:", 
      "            fp = open(filePath,'wb')", 
      "            pk.dump(self, fp)", 
      "            fp.close()", 
      "        except Exception as e:", 
      "            'Pickling failed for object ' + str(self) + ' on file ' + file + ' Exception: ' + e.message", 
      "            ", 
      "    ", 
      "    def tune(self, tuningSet, lowerDepthBound = 4, higherDepthBound = 20):", 
      "        ", 
      "        '''", 
      "        Description: tune the decision tree by measuring generalization error for various values of depth d.", 
      "            By default the values checked are between 4 and 20 inclusive.", 
      "        Arguments: ", 
      "            tuningSet: pandas.DataFrame. Set of examples to measure generalization error from.", 
      "            lowerDepthBound: Integer representing the lowest decision tree depth to use for tuning.", 
      "            higherDepthBound: Integer representing the lowest decision tree depth to use for tuning.", 
      "        Return Value: None", 
      "        '''", 
      "        ", 
      "        # Some argument checks first. We prefer to raise exceptions wherever the documentation of a method", 
      "        # explicitly states that the return value is None, so as to not expect of the caller to check an", 
      "        # output that is not expected to be present.", 
      "        ", 
      "        if lowerDepthBound > higherDepthBound:", 
      "            print \"Switching your arguments for lower and higher bound of tree depth...\"", 
      "            lowerDepthBound, higherDepthBound = higherDepthBound, lowerDepthBound", 
      "        ", 
      "        if not isinstance(lowerDepthBound, (int, long)) or not isinstance(higherDepthBound, (int, long)):", 
      "            raise TypeError(\"Integer bounds required for decision tree depth.\")", 
      "        ", 
      "        if(tuningSet.shape[0] == 0):", 
      "            raise mlex.DatasetError(\"Please provide examples to tune decision tree on.\")", 
      "        ", 
      "        self.tuningSet = tuningSet", 
      "        self.tunings = []                                                       # This list will hold (depth, tuning_error, tree root) tuples", 
      "        tuningError = np.empty(higherDepthBound - lowerDepthBound + 1)", 
      "        tuningSetLabels = tuningSet['spam'].values", 
      "        for tuningDepth in range(lowerDepthBound, higherDepthBound + 1):            ", 
      "            self.depth = tuningDepth", 
      "            self.train()", 
      "            print \"Trained decision tree on depth: \" + str(self.depth)", 
      "            classifications = self.classify(tuningSet)                          # List of type [-1, 1, 1,....]", 
      "            ", 
      "            # Pay attention to the way that the \"tuningError\" numpy. ndarray ", 
      "            # and the tuningMap dictionary are indexed and filled with values: ", 
      "            # The first is offset by \"lowerDepthBound\" whereas the second is ", 
      "            # offset by zero.", 
      "             ", 
      "            tuningError[tuningDepth - lowerDepthBound] = np.mean((classifications * tuningSetLabels) < 0) # product = -1 means wrong classification", 
      "            ", 
      "            # We need to retain data for every tuning, both for statistical purposes and also for the time", 
      "            # when we will want to test the data trained with a particular depth. So, for every tuning iteration,", 
      "            # we need the following data stored:", 
      "            #", 
      "            #    a) The value of the hyper-parameter (tree depth)", 
      "            #    b) The tuning error (used for statistical purposes)", 
      "            #    c) The root of the trained tree, so that we can classify ", 
      "            #        test data without having to re-train the tree. We should make", 
      "            #        a \"deep copy\" of this tree so that the entire tree is stored.", 
      "            #        This, in essence, turns the current \"DecisionTree\" object into", 
      "            #        a storage space of multiple decision trees, each trained on a different", 
      "            #        value of the \"depth\" hyper-parameter.", 
      "            ", 
      "            tunedDepth, tunedError, trainedTree = self.depth, tuningError[self.depth - lowerDepthBound], copy.deepcopy(self.root)", 
      "            self.tunings.append((tunedDepth, tunedError, trainedTree)) ", 
      "            print \"Classified tuning examples. Tuning error was: \" + str(tuningError[tuningDepth - lowerDepthBound])", 
      "            ", 
      "            # Re-initialize tree for the next iteration by setting root to None. This will cause a memory leak", 
      "            # for the tree that was currently trained; explicitly run the garbage collector to minimize the time ", 
      "            # that this leak is alive.", 
      "            ", 
      "            self.root = None", 
      "            gc.collect()", 
      "            ", 
      "    ", 
      "        # Now that tuning has taken place, set depth to the depth that caused the ", 
      "        # least classification error and make the root of the current object", 
      "        # point to the relevant tree, so that the object is ready to classify", 
      "        # testing points based on the best prediction found in tuning.", 
      "        ", 
      "        self.depth = np.argmin(tuningError) + lowerDepthBound", 
      "        for data in self.tunings:", 
      "            if data[0] == self.depth:", 
      "                self.optimalTuningError = data[1]", 
      "                self.root = data[2]", 
      "                break", 
      "        ", 
      "        # Some printings to add user-friendliness:", 
      "            ", 
      "        print \"Tuned decision tree. Found an optimal depth of \" + str(self.depth) + \" with a tuning error of \" + str(self.optimalTuningError)", 
      "", 
      "</code</pre> "
     ]
    }, 
    {
     "cell_type": "markdown", 
     "source": [
      "<font color=#ff3300>Extend your implementation to use [information gain](http://en.wikipedia.org/wiki/Information_gain_in_decision_trees) as scoring function. Insert your code for entropy gain here:</font>"
     ]
    }, 
    {
     "cell_type": "markdown", 
     "source": [
      "TODO: add code for information gain here", 
      "", 
      "RESPONSE: The relevant code can be examined in the class code above, but we will still copy it in the cell below for clarity."
     ]
    }, 
    {
     "cell_type": "markdown", 
     "source": [
      "The following is a fraction of the \"scoreFeatures\" method of our classifier:", 
      "", 
      "<pre><code>    ", 
      "    # Use Information Gain for current node", 
      "       ", 
      "    # First, compute cardinalities to weight info gain appropriately", 
      "    cardinalityLarger = trainingData[trainingData[featureName] >= example2[featureName]].shape[0]", 
      "    cardinalitySmaller = trainingData[trainingData[featureName] < example2[featureName]].shape[0]", 
      "    cardinalityCurrent = trainingData.shape[0]", 
      "    fractionLarger = cardinalityLarger / cardinalityCurrent", 
      "    fractionSmaller = cardinalitySmaller / cardinalityCurrent", 
      "", 
      "    # Second, compute all entropies", 
      "                        ", 
      "    currentEntropy = self.__calculateEntropy__(trainingData)", 
      "    entropyLarger =  self.__calculateEntropy__(trainingData[trainingData[featureName] >= example2[featureName]])", 
      "    entropySmaller = self.__calculateEntropy__(trainingData[trainingData[featureName] < example2[featureName]])", 
      "                        ", 
      "    # Third, compute information gain based on both entropies and cardinalities", 
      "                        ", 
      "    totalScore = currentEntropy - (fractionLarger* entropyLarger + fractionSmaller* entropySmaller)", 
      "</code></pre>                                                ", 
      "                    "
     ]
    }, 
    {
     "cell_type": "markdown", 
     "source": [
      "The calculateEntropy method has been defined as follows:", 
      "", 
      "<pre><code>", 
      "def __calculateEntropy__(self, dataset):", 
      "        ", 
      "        '''", 
      "        Description: Calculate the entropy of a given dataset. ", 
      "        Arguments: ", 
      "            dataset: pandas.DataFrame", 
      "        Return value: the entropy of the dataset (float)", 
      "        '''", 
      "        if dataset.shape[0] == 0:", 
      "            return 0                                                    ", 
      "        if 1 in dataset.groupby('spam').shape.keys():", 
      "                positiveExampleCount = dataset.groupby('spam').shape[1][0]", 
      "        else:", 
      "                positiveExampleCount = 0", 
      "        if -1 in dataset.groupby('spam').shape.keys():", 
      "                negativeExampleCount = dataset.groupby('spam').shape[-1][0]", 
      "        else:", 
      "                negativeExampleCount = 0", 
      "        ", 
      "        positivesFraction = positiveExampleCount / dataset.shape[0]     # division library will take care of quotients", 
      "        negativesFraction = negativeExampleCount / dataset.shape[0]", 
      "        return -positivesFraction * np.log2(positivesFraction) -negativesFraction* np.log2(negativesFraction)", 
      "</code></pre>"
     ]
    }, 
    {
     "cell_type": "markdown", 
     "source": [
      "<font color=#ff3300>Apply your code to the spam dataset. Analyze the result. Things you should discuss: 1. The effect of tree depth on accuracy,", 
      "2. Which features seem to be important for classification.", 
      "    "
     ]
    }, 
    {
     "cell_type": "markdown", 
     "source": [
      "### Experimental procedure", 
      "", 
      "First, we use the same set-up as the first Practicum session of Friday 09/07. We import the same libraries, set up the same training, tuning and ", 
      "testing dataset portions (including leaving the seed value at 1 to make the output reproducible by the instructors).", 
      "", 
      "Firstly we import all required libraries, as well as a function called \"load\", the definition for which we borrowed from the file KNN.py provided to us", 
      "at the first Practicum session referenced above. This function uses the pickles library to load an object image that has been stored on disk and is very useful", 
      "to us so that we don't have to retrain classifiers in order to show how well they deal with tuning and testing data."
     ]
    }, 
    {
     "cell_type": "code", 
     "collapsed": true, 
     "input": [
      "'''", 
      "Created on Sep 21, 2012", 
      "", 
      "@author: Jason", 
      "'''", 
      "", 
      "import numpy as np", 
      "import pandas as pd", 
      "import pylab as pl", 
      "import DecTree", 
      "from util import load"
     ], 
     "language": "python", 
     "outputs": [], 
     "prompt_number": 1
    }, 
    {
     "cell_type": "markdown", 
     "source": [
      "Read the dataset from the data file."
     ]
    }, 
    {
     "cell_type": "code", 
     "collapsed": true, 
     "input": [
      "spam_values = np.genfromtxt('../input_data/spambase.data', delimiter=',')", 
      "fl = open('../input_data/spambase.names', 'r')", 
      "lines = [line.strip() for line in fl] # J : strip from beginning and ending whitespace", 
      "fl.close() "
     ], 
     "language": "python", 
     "outputs": [], 
     "prompt_number": 2
    }, 
    {
     "cell_type": "markdown", 
     "source": [
      "Append column names to data and change spam labels to 1 and -1, so that it is easier for our classifiers to compute tuning and testing error."
     ]
    }, 
    {
     "cell_type": "code", 
     "collapsed": true, 
     "input": [
      "colnames = [line.partition(':')[0] for line in lines if not (len(line) == 0 or line[0] == '|' or line[0] == '1')]", 
      "colnames.append('spam')", 
      "spam_df = pd.DataFrame(spam_values,columns=colnames)", 
      "spam_df['spam']=2*spam_df['spam']-1"
     ], 
     "language": "python", 
     "outputs": [], 
     "prompt_number": 3
    }, 
    {
     "cell_type": "markdown", 
     "source": [
      "Establish how many testing and tuning samples we want:"
     ]
    }, 
    {
     "cell_type": "code", 
     "collapsed": true, 
     "input": [
      "nsamples = spam_df.shape[0] ", 
      "ntest = np.floor(.2 * nsamples)", 
      "ntune = np.floor(.1 * nsamples)"
     ], 
     "language": "python", 
     "outputs": [], 
     "prompt_number": 4
    }, 
    {
     "cell_type": "markdown", 
     "source": [
      "Generate test, tune and train datasets. Use a static seed of 1 to make the generation reproducible."
     ]
    }, 
    {
     "cell_type": "code", 
     "collapsed": true, 
     "input": [
      "np.random.seed(1)", 
      "all_indices = np.arange(nsamples) ", 
      "np.random.shuffle(all_indices) ", 
      "test_indices = all_indices[:ntest] ", 
      "tune_indices = all_indices[ntest:(ntest+ntune)] ", 
      "train_indices = all_indices[(ntest+ntune):] ", 
      "spam_train = spam_df.ix[train_indices,:]", 
      "spam_tune = spam_df.ix[tune_indices,:]", 
      "spam_test = spam_df.ix[test_indices,:]"
     ], 
     "language": "python", 
     "outputs": [], 
     "prompt_number": 5
    }, 
    {
     "cell_type": "markdown", 
     "source": [
      "Save the datasets on disk."
     ]
    }, 
    {
     "cell_type": "code", 
     "collapsed": true, 
     "input": [
      "pd.save(spam_train, '../proc_data/training_data/spam_train.pdat')", 
      "pd.save(spam_tune, '../proc_data/training_data/spam_tune.pdat')", 
      "pd.save(spam_test, '../proc_data/testing_data/spam_test.pdat')"
     ], 
     "language": "python", 
     "outputs": [], 
     "prompt_number": 6
    }, 
    {
     "cell_type": "markdown", 
     "source": [
      "Now we will load some classifiers that we have already trained, in order to show their performance in the tune and test datasets.", 
      "***Please Note:*** "
     ]
    }, 
    {
     "cell_type": "code", 
     "collapsed": false, 
     "input": [
      "# A decision tree classifier trained with Majority Vote, depths 1 to 15", 
      "majVoteTree = load(\"../proc_data/dtreeWithMajVote_1_to_15.pyobj\")", 
      "print \"According to the tuning set, the optimal depth for this tree is: \" + str(majVoteTree.depth)"
     ], 
     "language": "python", 
     "outputs": [
      {
       "output_type": "stream", 
       "stream": "stdout", 
       "text": [
        "According to the tuning set, the optimal depth for this tree is: 5"
       ]
      }
     ], 
     "prompt_number": 7
    }, 
    {
     "cell_type": "markdown", 
     "source": [
      "We now classify the spam data according to the loaded classifier:"
     ]
    }, 
    {
     "cell_type": "code", 
     "collapsed": false, 
     "input": [
      "classifications = majVoteTree.classify(spam_test)", 
      "testErrorRate = np.mean ( (spam_test['spam'].values * classifications) < 0)", 
      "print 'For this depth, the error on the test set was %0.3f' % testErrorRate"
     ], 
     "language": "python", 
     "outputs": [
      {
       "output_type": "stream", 
       "stream": "stdout", 
       "text": [
        "For this depth, the error on the test set was 0.083"
       ]
      }
     ], 
     "prompt_number": 8
    }, 
    {
     "cell_type": "markdown", 
     "source": [
      "Finally, we want to make a general estimate of how well this classifier performs for various depths. We have defined a method that takes all depth values", 
      "considered in the tuning set, prints the relevant tuning error and classifies the test set to report testing error."
     ]
    }, 
    {
     "cell_type": "code", 
     "collapsed": false, 
     "input": [
      "majVoteTree.classifyWithAllDepths(spam_test)"
     ], 
     "language": "python", 
     "outputs": [
      {
       "output_type": "stream", 
       "stream": "stdout", 
       "text": [
        "Classifying with depth: 1.", 
        "For this depth, the tuning error was: 0.397826086957.", 
        "Testing error of this decision tree is: 0.388043478261"
       ]
      }, 
      {
       "output_type": "stream", 
       "stream": "stdout", 
       "text": [
        "", 
        "Classifying with depth: 2.", 
        "For this depth, the tuning error was: 0.219565217391.", 
        "Testing error of this decision tree is: 0.216304347826"
       ]
      }, 
      {
       "output_type": "stream", 
       "stream": "stdout", 
       "text": [
        "", 
        "Classifying with depth: 3.", 
        "For this depth, the tuning error was: 0.15652173913.", 
        "Testing error of this decision tree is: 0.119565217391"
       ]
      }, 
      {
       "output_type": "stream", 
       "stream": "stdout", 
       "text": [
        "", 
        "Classifying with depth: 4.", 
        "For this depth, the tuning error was: 0.139130434783.", 
        "Testing error of this decision tree is: 0.104347826087"
       ]
      }, 
      {
       "output_type": "stream", 
       "stream": "stdout", 
       "text": [
        "", 
        "Classifying with depth: 5.", 
        "For this depth, the tuning error was: 0.108695652174.", 
        "Testing error of this decision tree is: 0.0826086956522"
       ]
      }, 
      {
       "output_type": "stream", 
       "stream": "stdout", 
       "text": [
        "", 
        "Classifying with depth: 6.", 
        "For this depth, the tuning error was: 0.119565217391.", 
        "Testing error of this decision tree is: 0.0858695652174"
       ]
      }, 
      {
       "output_type": "stream", 
       "stream": "stdout", 
       "text": [
        "", 
        "Classifying with depth: 7.", 
        "For this depth, the tuning error was: 0.115217391304.", 
        "Testing error of this decision tree is: 0.0804347826087"
       ]
      }, 
      {
       "output_type": "stream", 
       "stream": "stdout", 
       "text": [
        "", 
        "Classifying with depth: 8.", 
        "For this depth, the tuning error was: 0.128260869565.", 
        "Testing error of this decision tree is: 0.0913043478261"
       ]
      }, 
      {
       "output_type": "stream", 
       "stream": "stdout", 
       "text": [
        "", 
        "Classifying with depth: 9.", 
        "For this depth, the tuning error was: 0.128260869565.", 
        "Testing error of this decision tree is: 0.0913043478261"
       ]
      }, 
      {
       "output_type": "stream", 
       "stream": "stdout", 
       "text": [
        "", 
        "Classifying with depth: 10.", 
        "For this depth, the tuning error was: 0.121739130435.", 
        "Testing error of this decision tree is: 0.0902173913043"
       ]
      }, 
      {
       "output_type": "stream", 
       "stream": "stdout", 
       "text": [
        "", 
        "Classifying with depth: 11.", 
        "For this depth, the tuning error was: 0.121739130435.", 
        "Testing error of this decision tree is: 0.0923913043478"
       ]
      }, 
      {
       "output_type": "stream", 
       "stream": "stdout", 
       "text": [
        "", 
        "Classifying with depth: 12.", 
        "For this depth, the tuning error was: 0.119565217391.", 
        "Testing error of this decision tree is: 0.0902173913043"
       ]
      }, 
      {
       "output_type": "stream", 
       "stream": "stdout", 
       "text": [
        "", 
        "Classifying with depth: 13.", 
        "For this depth, the tuning error was: 0.119565217391.", 
        "Testing error of this decision tree is: 0.0902173913043"
       ]
      }, 
      {
       "output_type": "stream", 
       "stream": "stdout", 
       "text": [
        "", 
        "Classifying with depth: 14.", 
        "For this depth, the tuning error was: 0.117391304348.", 
        "Testing error of this decision tree is: 0.0902173913043"
       ]
      }, 
      {
       "output_type": "stream", 
       "stream": "stdout", 
       "text": [
        "", 
        "Classifying with depth: 15.", 
        "For this depth, the tuning error was: 0.117391304348.", 
        "Testing error of this decision tree is: 0.0902173913043"
       ]
      }, 
      {
       "output_type": "stream", 
       "stream": "stdout", 
       "text": [
        "", 
        "Estimated training error with all different depths."
       ]
      }
     ], 
     "prompt_number": 9
    }, 
    {
     "cell_type": "markdown", 
     "source": [
      "Let's make this a little more visual by using pylab:"
     ]
    }, 
    {
     "cell_type": "code", 
     "collapsed": false, 
     "input": [
      "from util import drawError", 
      "# draw tuning error first:", 
      "drawError([data[0] for data in majVoteTree.tunings], [data[1] for data in majVoteTree.tunings], \"Tuning error and depth for \\n Majority Vote Decision Tree\")"
     ], 
     "language": "python", 
     "outputs": [
      {
       "output_type": "display_data", 
       "png": "[encoded data removed]"
      }
     ], 
     "prompt_number": 10
    }, 
    {
     "cell_type": "markdown", 
     "source": [
      "So for depth = 1 to 10, tuning error is minimized for depth = 5. How much is it exactly?"
     ]
    }, 
    {
     "cell_type": "code", 
     "collapsed": false, 
     "input": [
      "print \"According to the tuning set, the optimal tuning error for this tree is: \" + str(majVoteTree.optimalTuningError)"
     ], 
     "language": "python", 
     "outputs": [
      {
       "output_type": "stream", 
       "stream": "stdout", 
       "text": [
        "According to the tuning set, the optimal tuning error for this tree is: 0.108695652174"
       ]
      }
     ], 
     "prompt_number": 11
    }, 
    {
     "cell_type": "markdown", 
     "source": [
      "About 11%. What about testing error?"
     ]
    }, 
    {
     "cell_type": "code", 
     "collapsed": false, 
     "input": [
      "drawError([data[0] for data in majVoteTree.tests], [data[1] for data in majVoteTree.tests], \"Testing error and depth for \\n Majority Vote Decision Tree\")"
     ], 
     "language": "python", 
     "outputs": [
      {
       "output_type": "display_data", 
       "png": "[encoded data removed]"
      }
     ], 
     "prompt_number": 12
    }, 
    {
     "cell_type": "markdown", 
     "source": [
      "With optimal testing error:"
     ]
    }, 
    {
     "cell_type": "code", 
     "collapsed": false, 
     "input": [
      "sortedTests= sorted(majVoteTree.tests, key=lambda data: data[1])", 
      "print \"According to the test set, the optimal testing error for this tree is: \" + str(sortedTests[0][1]) + \" and is attained for depth = \" + str(sortedTests[0][0]) + \".\""
     ], 
     "language": "python", 
     "outputs": [
      {
       "output_type": "stream", 
       "stream": "stdout", 
       "text": [
        "According to the test set, the optimal testing error for this tree is: 0.0804347826087 and is attained for depth = 7."
       ]
      }
     ], 
     "prompt_number": 13
    }, 
    {
     "cell_type": "markdown", 
     "source": [
      "So we achieve a better testing error for a value of the depth different than the one that the tuning set found to be optimal. Let's repeat this process", 
      "for the decision tree trained with Information Gain:"
     ]
    }, 
    {
     "cell_type": "code", 
     "collapsed": false, 
     "input": [
      "# A decision tree classifier trained with Information Gain, depths 1 to 15", 
      "IGTree = load(\"../proc_data/dtreeWithIG_1_to_15.pyobj\")", 
      "print \"According to the tuning set, the optimal depth for this tree is: \" + str(IGTree.depth)"
     ], 
     "language": "python", 
     "outputs": [
      {
       "output_type": "stream", 
       "stream": "stdout", 
       "text": [
        "According to the tuning set, the optimal depth for this tree is: 6"
       ]
      }
     ], 
     "prompt_number": 14
    }, 
    {
     "cell_type": "code", 
     "collapsed": false, 
     "input": [
      "classifications = IGTree.classify(spam_test)", 
      "testErrorRate = np.mean ( (spam_test['spam'].values * classifications) < 0)", 
      "print 'For this depth, the error on the test set was %0.3f' % testErrorRate"
     ], 
     "language": "python", 
     "outputs": [
      {
       "output_type": "stream", 
       "stream": "stdout", 
       "text": [
        "For this depth, the error on the test set was 0.122"
       ]
      }
     ], 
     "prompt_number": 15
    }, 
    {
     "cell_type": "code", 
     "collapsed": false, 
     "input": [
      "IGTree.classifyWithAllDepths(spam_test)"
     ], 
     "language": "python", 
     "outputs": [
      {
       "output_type": "stream", 
       "stream": "stdout", 
       "text": [
        "Classifying with depth: 1.", 
        "For this depth, the tuning error was: 0.397826086957.", 
        "Testing error of this decision tree is: 0.388043478261"
       ]
      }, 
      {
       "output_type": "stream", 
       "stream": "stdout", 
       "text": [
        "", 
        "Classifying with depth: 2.", 
        "For this depth, the tuning error was: 0.221739130435.", 
        "Testing error of this decision tree is: 0.21847826087"
       ]
      }, 
      {
       "output_type": "stream", 
       "stream": "stdout", 
       "text": [
        "", 
        "Classifying with depth: 3.", 
        "For this depth, the tuning error was: 0.180434782609.", 
        "Testing error of this decision tree is: 0.176086956522"
       ]
      }, 
      {
       "output_type": "stream", 
       "stream": "stdout", 
       "text": [
        "", 
        "Classifying with depth: 4.", 
        "For this depth, the tuning error was: 0.139130434783.", 
        "Testing error of this decision tree is: 0.108695652174"
       ]
      }, 
      {
       "output_type": "stream", 
       "stream": "stdout", 
       "text": [
        "", 
        "Classifying with depth: 5.", 
        "For this depth, the tuning error was: 0.126086956522.", 
        "Testing error of this decision tree is: 0.102173913043"
       ]
      }, 
      {
       "output_type": "stream", 
       "stream": "stdout", 
       "text": [
        "", 
        "Classifying with depth: 6.", 
        "For this depth, the tuning error was: 0.113043478261.", 
        "Testing error of this decision tree is: 0.121739130435"
       ]
      }, 
      {
       "output_type": "stream", 
       "stream": "stdout", 
       "text": [
        "", 
        "Classifying with depth: 7.", 
        "For this depth, the tuning error was: 0.126086956522.", 
        "Testing error of this decision tree is: 0.115217391304"
       ]
      }, 
      {
       "output_type": "stream", 
       "stream": "stdout", 
       "text": [
        "", 
        "Classifying with depth: 8.", 
        "For this depth, the tuning error was: 0.265217391304.", 
        "Testing error of this decision tree is: 0.244565217391"
       ]
      }, 
      {
       "output_type": "stream", 
       "stream": "stdout", 
       "text": [
        "", 
        "Classifying with depth: 9.", 
        "For this depth, the tuning error was: 0.271739130435.", 
        "Testing error of this decision tree is: 0.261956521739"
       ]
      }, 
      {
       "output_type": "stream", 
       "stream": "stdout", 
       "text": [
        "", 
        "Classifying with depth: 10.", 
        "For this depth, the tuning error was: 0.291304347826.", 
        "Testing error of this decision tree is: 0.302173913043"
       ]
      }, 
      {
       "output_type": "stream", 
       "stream": "stdout", 
       "text": [
        "", 
        "Classifying with depth: 11.", 
        "For this depth, the tuning error was: 0.310869565217.", 
        "Testing error of this decision tree is: 0.31847826087"
       ]
      }, 
      {
       "output_type": "stream", 
       "stream": "stdout", 
       "text": [
        "", 
        "Classifying with depth: 12.", 
        "For this depth, the tuning error was: 0.45652173913.", 
        "Testing error of this decision tree is: 0.44347826087"
       ]
      }, 
      {
       "output_type": "stream", 
       "stream": "stdout", 
       "text": [
        "", 
        "Classifying with depth: 13.", 
        "For this depth, the tuning error was: 0.521739130435.", 
        "Testing error of this decision tree is: 0.509782608696"
       ]
      }, 
      {
       "output_type": "stream", 
       "stream": "stdout", 
       "text": [
        "", 
        "Classifying with depth: 14.", 
        "For this depth, the tuning error was: 0.530434782609.", 
        "Testing error of this decision tree is: 0.528260869565"
       ]
      }, 
      {
       "output_type": "stream", 
       "stream": "stdout", 
       "text": [
        "", 
        "Classifying with depth: 15.", 
        "For this depth, the tuning error was: 0.536956521739.", 
        "Testing error of this decision tree is: 0.538043478261"
       ]
      }, 
      {
       "output_type": "stream", 
       "stream": "stdout", 
       "text": [
        "", 
        "Estimated training error with all different depths."
       ]
      }
     ], 
     "prompt_number": 16
    }, 
    {
     "cell_type": "code", 
     "collapsed": false, 
     "input": [
      "drawError([data[0] for data in IGTree.tunings], [data[1] for data in IGTree.tunings], \"Tuning error and depth for \\n Information Gain Decision Tree\")"
     ], 
     "language": "python", 
     "outputs": [
      {
       "output_type": "display_data", 
       "png": "[encoded data removed]"
      }
     ], 
     "prompt_number": 17
    }, 
    {
     "cell_type": "code", 
     "collapsed": false, 
     "input": [
      "drawError([data[0] for data in IGTree.tests], [data[1] for data in IGTree.tests], \"Testing error and depth for \\n Information Gain Decision Tree\")"
     ], 
     "language": "python", 
     "outputs": [
      {
       "output_type": "display_data", 
       "png": "[encoded data removed]"
      }
     ], 
     "prompt_number": 18
    }, 
    {
     "cell_type": "code", 
     "collapsed": false, 
     "input": [
      "sortedTests= sorted(IGTree.tests, key=lambda data: data[1])", 
      "print \"According to the tuning set, the optimal tuning error for this tree is: \" + str(sortedTests[0][1])"
     ], 
     "language": "python", 
     "outputs": [
      {
       "output_type": "stream", 
       "stream": "stdout", 
       "text": [
        "According to the tuning set, the optimal tuning error for this tree is: 0.102173913043"
       ]
      }
     ], 
     "prompt_number": 18
    }, 
    {
     "cell_type": "markdown", 
     "source": [
      "So Information Gain does slightly worse than Majority Vote and the testing error appears to be reaching a minimum at depth = 5. After that depth, the decision tree", 
      "appears to be **overfitting** the data!"
     ]
    }, 
    {
     "cell_type": "markdown", 
     "source": [
      "### Discussion ", 
      "", 
      "Compared to Hector's results using a variety of $\\mathcal{K}$ for the $\\mathcal{K}$-nearest neighbors algorithm, our decision tree implementations appear to", 
      "be faring better (at least for the range of hyper-parameter values which we had time to examine). Notably, our best testing error computation (8.3%), attained", 
      "with the Majority Vote metric, is about 10.7% better than Hector's optimal testing error of 19%.", 
      "", 
      "This can be due to a variety of reasons. The most notable feature is that we have made sure that the features that the decision tree should sequentially examine", 
      "are the ones that are the highest scored at each point, either through majority voting or information gain. This makes sure that the splittings of the tree", 
      "are as \"pure\" as possible, according to the metric used. The K-nn algorithm can't do that by nature: all features are **equally valued** for it!", 
      "", 
      "In what follows, we show how the features are sorted with respect to their Information Gain. As mentioned in the comments, please allow the sortFeatures()", 
      "method some time to execute fully, since it is rather expensive from a computational perspective when applied to the full dataset."
     ]
    }, 
    {
     "cell_type": "code", 
     "collapsed": false, 
     "input": [
      "atestTree = DecTree.DecisionTree(spam_train, 5, True)", 
      "# The following method sorts the features in descending order according to their score through Information Gain.", 
      "# Give it some time to finish (approx. 3 min in an i3 quadcore with 2.6Ghz/Core + 6GB of RAM)", 
      "# because it scans all feature vectors in their entirety.", 
      "print atestTree.__sortFeatures__(spam_train, spam_train.columns)"
     ], 
     "language": "python", 
     "outputs": [
      {
       "output_type": "stream", 
       "stream": "stdout", 
       "text": [
        "[('char_freq_$', 0.053999999999999999, 0.25547313451781217), ('char_freq_!', 0.079000000000000001, 0.24642707891131355), ('word_freq_remove', 0.029999999999999999, 0.20814359707061136), ('word_freq_free', 0.089999999999999997, 0.19957328880005598), ('word_freq_your', 0.41999999999999998, 0.18659543829576763), ('word_freq_money', 0.02, 0.17820450284669243), ('capital_run_length_longest', 19.0, 0.1459270941437435), ('capital_run_length_average', 3.1549999999999998, 0.14579062919725561), ('word_freq_hp', 0.10000000000000001, 0.14474574616863567), ('word_freq_000', 0.13, 0.14264575496422693), ('word_freq_our', 0.050000000000000003, 0.12633446871019616), ('capital_run_length_total', 69.0, 0.12450231699642578), ('word_freq_hpl', 0.089999999999999997, 0.11429470633019545), ('word_freq_george', 0.20000000000000001, 0.11391030120901857), ('word_freq_you', 0.72999999999999998, 0.1046392877336505), ('word_freq_all', 0.23999999999999999, 0.1010909584849683), ('word_freq_business', 0.059999999999999998, 0.094279735048632407), ('word_freq_internet', 0.029999999999999999, 0.089435905255028203), ('word_freq_credit', 0.029999999999999999, 0.086727737907620783), ('word_freq_receive', 0.029999999999999999, 0.085791434314323678), ('word_freq_over', 0.089999999999999997, 0.073854946762701768), ('word_freq_address', 0.080000000000000002, 0.071826146009200342), ('word_freq_mail', 0.050000000000000003, 0.069583779074771868), ('word_freq_order', 0.050000000000000003, 0.066623158647081238), ('word_freq_email', 0.059999999999999998, 0.064291703240298315), ('word_freq_1999', 0.070000000000000007, 0.062118880974974755), ('char_freq_#', 0.0060000000000000001, 0.056326584875325825), ('word_freq_addresses', 0.02, 0.05535170147844648), ('word_freq_labs', 0.11, 0.052362704310248809), ('word_freq_lab', 0.12, 0.048581233914593347), ('word_freq_85', 0.23000000000000001, 0.048083619179049353), ('word_freq_make', 0.070000000000000007, 0.044814297352277266), ('word_freq_edu', 0.10000000000000001, 0.041266688809824204), ('word_freq_650', 0.089999999999999997, 0.039761415456231242), ('word_freq_people', 0.11, 0.038951286242148497), ('word_freq_meeting', 0.44, 0.036992600991692326), ('word_freq_will', 0.28000000000000003, 0.035906614143150439), ('word_freq_re', 0.56000000000000005, 0.028982849939652611), ('word_freq_telnet', 0.39000000000000001, 0.026692848113289092), ('word_freq_415', 0.17000000000000001, 0.023613447907151031), ('word_freq_pm', 0.20000000000000001, 0.022127036784592824), ('word_freq_original', 0.23000000000000001, 0.022080291290979548), ('word_freq_data', 0.17000000000000001, 0.02133346586022955), ('char_freq_(', 0.28000000000000003, 0.021317401948767079), ('word_freq_857', 0.46000000000000002, 0.01996140459994078), ('word_freq_project', 0.27000000000000002, 0.019559249924431921), ('word_freq_technology', 0.089999999999999997, 0.018743290517881372), ('word_freq_report', 0.040000000000000001, 0.017988418118174865), ('word_freq_conference', 0.10000000000000001, 0.016113397076231717), ('word_freq_font', 0.070000000000000007, 0.015268561436711847), ('char_freq_[', 0.029999999999999999, 0.011770427649779092), ('char_freq_;', 0.078, 0.010027660087751133), ('word_freq_direct', 0.53000000000000003, 0.0037750271325995843), ('word_freq_3d', 0.17000000000000001, 0.0037385725239406087), ('word_freq_parts', 0.40000000000000002, 0.0031355762150127031), ('word_freq_table', 0.11, 0.0026272920475158834), ('word_freq_cs', None, 0)]"
       ]
      }
     ], 
     "prompt_number": 19
    }, 
    {
     "cell_type": "markdown", 
     "source": [
      "So it is made clear that the feature \"char_freq_$ \\scriptsize{\\$} $\", representing the frequency of the dollar sign in an e-mail, has the highest correlation with the \"spam\" label.", 
      "This feature is closely followed by the frequency of the exclamation point character, then followed by the frequency of \"remove\", \"free\", etc. This makes", 
      "perfect sense in the real world: spam e-mail typically makes huge monetary ($$$) promises, makes exaggerated claims in an enthusiastic manner!!!!, and contains", 
      "words such as \"free\" (free products), and \"remove\" (remove pests from your home with the new revolutionary Pets-Are-A-Go 9000 etc). ", 
      "", 
      "So, in the spam dataset, not all features are equal. What this means is that the assumption that KNN does, i.e that all features are equal, ", 
      "is not particularly valid fot this dataset."
     ]
    }, 
    {
     "cell_type": "markdown", 
     "source": [
      "###Part II: Extending k-nn", 
      "", 
      "<font color=#ff3300>Implement the weighted distance idea discussed in CIML for k-nearest neighbors. Feel free to extend the ", 
      "    code linked to above. Please provide your modified code here:</font>"
     ]
    }, 
    {
     "cell_type": "markdown", 
     "source": [
      "TODO: insert weighted distance k-nn code here", 
      "", 
      "RESPONSE: I was unfortunately unable to implement an idea for Weighted Features K-NN, due to a lack of time as well as a recent laptop breakdown,", 
      "which made me lose an entire afternoon of work."
     ]
    }, 
    {
     "cell_type": "markdown", 
     "source": [
      "<font color=#ff3300>Compare your new weighted k-nn algorithm to the original algorithm provided using the spam dataset</font>. "
     ]
    }, 
    {
     "cell_type": "code", 
     "collapsed": true, 
     "input": [
      "#TODO: insert analysis here"
     ], 
     "language": "python", 
     "outputs": []
    }, 
    {
     "cell_type": "markdown", 
     "source": [
      "###Part III: Compare k-nn and decision tree performance on the spam dataset", 
      "", 
      "<font color=#ff3300>Discuss performance and any other suitable characteristics of k-nn and decision tree using the spam dataset as example.</font>"
     ]
    }, 
    {
     "cell_type": "markdown", 
     "source": [
      "Here is the performance of Hector's KNN classifier on the test data (testing error per value of K):"
     ]
    }, 
    {
     "cell_type": "code", 
     "collapsed": false, 
     "input": [
      "HectorsKNN = load(\"../proc_data/HectorsKNN_1_to_41.pyobj\") # Hector's data trained for 1 to 41", 
      "HectorsKNN.classifyWithAllK(spam_test)"
     ], 
     "language": "python", 
     "outputs": [
      {
       "output_type": "stream", 
       "stream": "stdout", 
       "text": [
        "Classifying with 1 - nearest neighbors.", 
        "Testing error was: 0.13152173913."
       ]
      }, 
      {
       "output_type": "stream", 
       "stream": "stdout", 
       "text": [
        "", 
        "Classifying with 3 - nearest neighbors.", 
        "Testing error was: 0.142391304348."
       ]
      }, 
      {
       "output_type": "stream", 
       "stream": "stdout", 
       "text": [
        "", 
        "Classifying with 5 - nearest neighbors.", 
        "Testing error was: 0.158695652174."
       ]
      }, 
      {
       "output_type": "stream", 
       "stream": "stdout", 
       "text": [
        "", 
        "Classifying with 7 - nearest neighbors.", 
        "Testing error was: 0.169565217391."
       ]
      }, 
      {
       "output_type": "stream", 
       "stream": "stdout", 
       "text": [
        "", 
        "Classifying with 9 - nearest neighbors.", 
        "Testing error was: 0.166304347826."
       ]
      }, 
      {
       "output_type": "stream", 
       "stream": "stdout", 
       "text": [
        "", 
        "Classifying with 11 - nearest neighbors.", 
        "Testing error was: 0.169565217391."
       ]
      }, 
      {
       "output_type": "stream", 
       "stream": "stdout", 
       "text": [
        "", 
        "Classifying with 13 - nearest neighbors.", 
        "Testing error was: 0.183695652174."
       ]
      }, 
      {
       "output_type": "stream", 
       "stream": "stdout", 
       "text": [
        "", 
        "Classifying with 15 - nearest neighbors.", 
        "Testing error was: 0.186956521739."
       ]
      }, 
      {
       "output_type": "stream", 
       "stream": "stdout", 
       "text": [
        "", 
        "Classifying with 17 - nearest neighbors.", 
        "Testing error was: 0.204347826087."
       ]
      }, 
      {
       "output_type": "stream", 
       "stream": "stdout", 
       "text": [
        "", 
        "Classifying with 19 - nearest neighbors.", 
        "Testing error was: 0.21847826087."
       ]
      }, 
      {
       "output_type": "stream", 
       "stream": "stdout", 
       "text": [
        "", 
        "Classifying with 21 - nearest neighbors.", 
        "Testing error was: 0.222826086957."
       ]
      }, 
      {
       "output_type": "stream", 
       "stream": "stdout", 
       "text": [
        "", 
        "Classifying with 23 - nearest neighbors.", 
        "Testing error was: 0.226086956522."
       ]
      }, 
      {
       "output_type": "stream", 
       "stream": "stdout", 
       "text": [
        "", 
        "Classifying with 25 - nearest neighbors.", 
        "Testing error was: 0.228260869565."
       ]
      }, 
      {
       "output_type": "stream", 
       "stream": "stdout", 
       "text": [
        "", 
        "Classifying with 27 - nearest neighbors.", 
        "Testing error was: 0.238043478261."
       ]
      }, 
      {
       "output_type": "stream", 
       "stream": "stdout", 
       "text": [
        "", 
        "Classifying with 29 - nearest neighbors.", 
        "Testing error was: 0.238043478261."
       ]
      }, 
      {
       "output_type": "stream", 
       "stream": "stdout", 
       "text": [
        "", 
        "Classifying with 31 - nearest neighbors.", 
        "Testing error was: 0.253260869565."
       ]
      }, 
      {
       "output_type": "stream", 
       "stream": "stdout", 
       "text": [
        "", 
        "Classifying with 33 - nearest neighbors.", 
        "Testing error was: 0.246739130435."
       ]
      }, 
      {
       "output_type": "stream", 
       "stream": "stdout", 
       "text": [
        "", 
        "Classifying with 35 - nearest neighbors.", 
        "Testing error was: 0.247826086957."
       ]
      }, 
      {
       "output_type": "stream", 
       "stream": "stdout", 
       "text": [
        "", 
        "Classifying with 37 - nearest neighbors.", 
        "Testing error was: 0.25."
       ]
      }, 
      {
       "output_type": "stream", 
       "stream": "stdout", 
       "text": [
        "", 
        "Classifying with 39 - nearest neighbors.", 
        "Testing error was: 0.252173913043."
       ]
      }, 
      {
       "output_type": "stream", 
       "stream": "stdout", 
       "text": [
        "", 
        "Classifying with 41 - nearest neighbors.", 
        "Testing error was: 0.24347826087."
       ]
      }, 
      {
       "output_type": "stream", 
       "stream": "stdout", 
       "text": []
      }
     ], 
     "prompt_number": 24
    }, 
    {
     "cell_type": "markdown", 
     "source": [
      "Through pylab:"
     ]
    }, 
    {
     "cell_type": "code", 
     "collapsed": false, 
     "input": [
      "drawError([data[0] for data in HectorsKNN.testingData], [data[1] for data in HectorsKNN.testingData], \"Training error and depth for \\n Hector's KNN classifier\")"
     ], 
     "language": "python", 
     "outputs": [
      {
       "output_type": "display_data", 
       "png": "[encoded data removed]"
      }
     ], 
     "prompt_number": 27
    }, 
    {
     "cell_type": "markdown", 
     "source": [
      "So it's easy to see that, after a minimum testing error for k = 1, Hector's classifier doesn't perform as well as our own."
     ]
    }, 
    {
     "cell_type": "markdown", 
     "source": [
      "###Part IV: Feature weights in k-nn", 
      "", 
      "As discussed in class k-nn uses all features equally. In this dataset we know not all features are equally informative. The last part of your homework ", 
      "is to propose a method for weighting features in k-nn. ", 
      "", 
      "<font color=#ff3300>Design and implement a method to weight features in the k-nn classifier</font>", 
      "", 
      "Hint: you can base weights on scoring functions you have used in decision tree building"
     ]
    }, 
    {
     "cell_type": "markdown", 
     "source": [
      "TODO: Discuss the method you have designed and insert source code here:", 
      "", 
      "RESPONSE: For the reasons outlined in part II, I was unable to complete part IV."
     ]
    }, 
    {
     "cell_type": "markdown", 
     "source": [
      "<font color=#ff3300>Compare the performance of your new k-nn classifier to the other classifiers you have defined so far on the spam dataset</font>"
     ]
    }, 
    {
     "cell_type": "code", 
     "collapsed": true, 
     "input": [
      "No time to implement WFKNN :("
     ], 
     "language": "python", 
     "outputs": [], 
     "prompt_number": 2
    }, 
    {
     "cell_type": "markdown", 
     "source": [
      "###Handing-in", 
      "", 
      "Use the [class handin system](http://inclass.umiacs.umd.edu/perl/handin.pl?course=cmsc726) to handin your work. You have to", 
      "turn in this IPython notebook (after editing of course) `PA01.ipynb`. There are two other (optional) files you can turn in", 
      "`pa01.tar.gz` and `pa01.zip` which you can use to turn in any source code you used."
     ]
    }
   ]
  }
 ]
}