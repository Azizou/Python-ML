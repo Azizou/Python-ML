{
 "metadata": {
  "name": "GMM"
 }, 
 "nbformat": 2, 
 "worksheets": [
  {
   "cells": [
    {
     "cell_type": "code", 
     "collapsed": true, 
     "input": [
      "import os", 
      "import numpy as np", 
      "", 
      "def loadData(datadirectory= '/media/Common/Eclipse/GMM/caltech101/training/'):", 
      "    DIR_categories=os.listdir(datadirectory);", 
      "    imFeatures=[]", 
      "    imLabels=[]", 
      "    labelNames = []", 
      "    labelCounts = []", 
      "    i=0;", 
      "    for cat in DIR_categories:", 
      "        if os.path.isdir(datadirectory+ cat):", 
      "            i=i+1;", 
      "            DIR_image=os.listdir(datadirectory+ cat +'/');", 
      "            count = 0;", 
      "            for im in DIR_image:", 
      "                if (not '._image_' in im):", 
      "                    F = np.genfromtxt(datadirectory+cat+'/'+im, delimiter=' ');", 
      "                    F = np.reshape(F,21*28);", 
      "                    #F = np.mat(F);", 
      "                    F = F.tolist();", 
      "                    imFeatures.append(F);", 
      "                    imLabels.append(i);", 
      "                    count = count + 1", 
      "            labelNames.append(cat);", 
      "            labelCounts.append(count);", 
      "    return imFeatures, imLabels, labelNames, labelCounts", 
      "", 
      "def loadTestData(datadirectory = '/media/Common/Eclipse/GMM/caltech101/training/'):", 
      "    #DIR_categories=os.listdir(datadirectory);", 
      "    imFeatures=[]", 
      "    imLabels=[]", 
      "    labelNames = []", 
      "    labelCounts = []", 
      "    i=0;", 
      "    for cat in ['Motorbikes','Faces_easy']:", 
      "        if os.path.isdir(datadirectory+ cat):", 
      "            i=i+1;", 
      "            DIR_image=os.listdir(datadirectory+ cat +'/');", 
      "            count = 0;", 
      "            for im in DIR_image:", 
      "                if (not '._image_' in im):", 
      "                    F = np.genfromtxt(datadirectory+cat+'/'+im, delimiter=' ');", 
      "                    F = np.reshape(F,21*28);", 
      "                    #F = np.mat(F);", 
      "                    F = F.tolist();", 
      "                    imFeatures.append(F);", 
      "                    imLabels.append(i);", 
      "                    count = count + 1", 
      "            labelNames.append(cat);", 
      "            labelCounts.append(count);", 
      "    return imFeatures, imLabels, labelNames, labelCounts"
     ], 
     "language": "python", 
     "outputs": [], 
     "prompt_number": 1
    }, 
    {
     "cell_type": "code", 
     "collapsed": false, 
     "input": [
      "#test with just 2 classes", 
      "X1, Y1, labelNames, labelCounts = loadTestData()", 
      "X1 = np.array(X1)", 
      "Y1 = np.array(Y1)", 
      "print Y1", 
      "print labelNames", 
      "print labelCounts"
     ], 
     "language": "python", 
     "outputs": [
      {
       "output_type": "stream", 
       "stream": "stdout", 
       "text": [
        "[1 1 1 1 1 1 1 1 1 1 1 1 1 1 1 1 1 1 1 1 1 1 1 1 1 1 1 1 1 1 1 1 1 1 1 1 1", 
        " 1 1 1 1 1 1 1 1 1 1 1 1 1 1 1 1 1 1 1 1 1 1 1 1 1 1 1 1 1 1 1 1 1 1 1 1 1", 
        " 1 1 1 1 1 1 1 1 1 1 1 1 1 1 1 1 1 1 1 1 1 1 1 1 1 1 1 1 1 1 1 1 1 1 1 1 1", 
        " 1 1 1 1 1 1 1 1 1 1 1 1 1 1 1 1 1 1 1 1 1 1 1 1 1 1 1 1 1 1 1 1 1 1 1 1 1", 
        " 1 1 1 1 1 1 1 1 1 1 1 1 1 1 1 1 1 1 1 1 1 1 1 1 1 1 1 1 1 1 1 1 1 1 1 1 1", 
        " 1 1 1 1 1 1 1 1 1 1 1 1 1 1 1 1 1 1 1 1 1 1 1 1 1 1 1 1 1 1 1 1 1 1 1 1 1", 
        " 1 1 1 1 1 1 1 1 1 1 1 1 1 1 1 1 1 1 1 1 1 1 1 1 1 1 1 1 1 1 1 1 1 1 1 1 1", 
        " 1 1 1 1 1 1 1 1 1 1 1 1 1 1 1 1 1 1 1 1 1 1 1 1 1 1 1 1 1 1 1 1 1 1 1 1 1", 
        " 1 1 1 1 1 1 1 1 1 1 1 1 1 1 1 1 1 1 1 1 1 1 1 1 1 1 1 1 1 1 1 1 1 1 1 1 1", 
        " 1 1 1 1 1 1 1 1 1 1 1 1 1 1 1 1 1 1 1 1 1 1 1 1 1 1 1 1 1 1 1 1 1 1 1 1 1", 
        " 1 1 1 1 1 1 1 1 1 1 1 1 1 1 1 1 1 1 1 1 1 1 1 1 1 1 1 1 2 2 2 2 2 2 2 2 2", 
        " 2 2 2 2 2 2 2 2 2 2 2 2 2 2 2 2 2 2 2 2 2 2 2 2 2 2 2 2 2 2 2 2 2 2 2 2 2", 
        " 2 2 2 2 2 2 2 2 2 2 2 2 2 2 2 2 2 2 2 2 2 2 2 2 2 2 2 2 2 2 2 2 2 2 2 2 2", 
        " 2 2 2 2 2 2 2 2 2 2 2 2 2 2 2 2 2 2 2 2 2 2 2 2 2 2 2 2 2 2 2 2 2 2 2 2 2", 
        " 2 2 2 2 2 2 2 2 2 2 2 2 2 2 2 2 2 2 2 2 2 2 2 2 2 2 2 2 2 2 2 2 2 2 2 2 2", 
        " 2 2 2 2 2 2 2 2 2 2 2 2 2 2 2 2 2 2 2 2 2 2 2 2 2 2 2 2 2 2 2 2 2 2 2 2 2", 
        " 2 2 2 2 2 2 2 2 2 2 2 2 2 2 2 2 2 2 2 2 2 2 2]", 
        "['Motorbikes', 'Faces_easy']", 
        "[398, 217]"
       ]
      }
     ], 
     "prompt_number": 9
    }, 
    {
     "cell_type": "code", 
     "collapsed": true, 
     "input": [
      "from sklearn import mixture"
     ], 
     "language": "python", 
     "outputs": [], 
     "prompt_number": 10
    }, 
    {
     "cell_type": "code", 
     "collapsed": false, 
     "input": [
      "g1 = mixture.GMM(n_components=2) #type = 'diag' by default", 
      "g1.fit(X1)"
     ], 
     "language": "python", 
     "outputs": [
      {
       "output_type": "pyout", 
       "prompt_number": 11, 
       "text": [
        "GMM(covariance_type=None, init_params='wmc', min_covar=0.001, n_components=2,", 
        "  n_init=1, n_iter=100, params='wmc', random_state=None, thresh=0.01)"
       ]
      }
     ], 
     "prompt_number": 11
    }, 
    {
     "cell_type": "code", 
     "collapsed": false, 
     "input": [
      "print np.round(g1.weights_, 2) #theta", 
      "print np.round(g1.means_, 2) #mu", 
      "print np.round(g1.covars_, 2) #sigma"
     ], 
     "language": "python", 
     "outputs": [
      {
       "output_type": "stream", 
       "stream": "stdout", 
       "text": [
        "[ 0.35  0.65]", 
        "[[-0.08  0.01 -0.05 ..., -0.02 -0.   -0.01]", 
        " [-0.02  0.    0.02 ..., -0.07 -0.02 -0.02]]", 
        "[[ 0.01  0.    0.05 ...,  0.01  0.    0.  ]", 
        " [ 0.    0.    0.01 ...,  0.01  0.    0.  ]]"
       ]
      }
     ], 
     "prompt_number": 12
    }, 
    {
     "cell_type": "code", 
     "collapsed": false, 
     "input": [
      "Xval1, Yval1, names1, counts1 = loadTestData('/media/Common/Eclipse/GMM/caltech101/validation/')", 
      "Xval1 = np.array(Xval1)", 
      "Yval1 = np.array(Yval1)", 
      "print Yval1", 
      "print names1", 
      "print counts1"
     ], 
     "language": "python", 
     "outputs": [
      {
       "output_type": "stream", 
       "stream": "stdout", 
       "text": [
        "[1 1 1 1 1 1 1 1 1 1 1 1 1 1 1 1 1 1 1 1 1 1 1 1 1 1 1 1 1 1 1 1 1 1 1 1 1", 
        " 1 1 1 1 1 1 1 1 1 1 1 1 1 1 1 1 1 1 1 1 1 1 1 1 1 1 1 1 1 1 1 1 1 1 1 1 1", 
        " 1 1 1 1 1 1 1 1 1 1 1 1 1 1 1 1 1 1 1 1 1 1 1 1 1 1 1 1 1 1 1 1 1 1 1 1 1", 
        " 1 1 1 1 1 1 1 1 1 1 1 1 1 1 1 1 1 1 1 1 1 1 1 1 1 1 1 1 1 1 1 1 1 1 1 1 1", 
        " 1 1 1 1 1 1 1 1 1 1 1 1 1 1 1 1 1 1 1 1 1 1 1 1 1 1 1 1 1 1 1 1 1 1 1 1 1", 
        " 1 1 1 1 1 1 1 1 1 1 1 1 1 1 1 2 2 2 2 2 2 2 2 2 2 2 2 2 2 2 2 2 2 2 2 2 2", 
        " 2 2 2 2 2 2 2 2 2 2 2 2 2 2 2 2 2 2 2 2 2 2 2 2 2 2 2 2 2 2 2 2 2 2 2 2 2", 
        " 2 2 2 2 2 2 2 2 2 2 2 2 2 2 2 2 2 2 2 2 2 2 2 2 2 2 2 2 2 2 2 2 2 2 2 2 2", 
        " 2 2 2 2 2 2 2 2 2 2 2 2 2]", 
        "['Motorbikes', 'Faces_easy']", 
        "[200, 109]"
       ]
      }
     ], 
     "prompt_number": 13
    }, 
    {
     "cell_type": "code", 
     "collapsed": false, 
     "input": [
      "p1 = g1.predict(Xval1)", 
      "print p1"
     ], 
     "language": "python", 
     "outputs": [
      {
       "output_type": "stream", 
       "stream": "stdout", 
       "text": [
        "[1 1 1 1 1 1 1 1 1 1 1 1 1 1 1 1 1 1 1 1 1 1 1 1 1 1 1 1 1 1 1 1 1 1 1 1 1", 
        " 1 1 1 1 1 1 1 1 1 1 1 1 1 1 1 1 1 1 1 1 1 1 1 1 1 1 1 1 1 1 1 1 1 1 1 1 1", 
        " 1 1 1 1 1 1 1 1 1 1 1 1 1 1 1 1 1 1 1 1 1 1 1 1 1 1 1 1 1 1 1 1 1 1 1 1 1", 
        " 1 1 1 1 1 1 1 1 1 1 1 1 1 1 1 1 1 1 1 1 1 1 1 1 1 1 1 1 1 1 1 1 1 1 1 1 1", 
        " 1 1 1 1 1 1 1 1 1 1 1 1 1 1 1 1 1 1 1 1 1 1 1 1 1 1 1 1 1 1 1 1 1 1 1 1 1", 
        " 1 1 1 1 1 1 1 1 1 1 1 1 1 1 1 0 0 0 0 0 0 0 0 0 0 0 0 0 0 0 0 0 0 0 0 0 0", 
        " 0 0 0 0 0 0 0 0 0 0 0 0 0 0 0 0 0 0 0 0 0 0 0 0 0 0 0 0 0 0 0 0 0 0 0 0 0", 
        " 0 0 0 0 0 0 0 0 0 0 0 0 0 0 0 0 0 0 0 0 0 0 0 0 0 0 0 0 0 0 0 0 0 0 0 0 0", 
        " 0 0 0 0 0 0 0 0 0 0 0 0 0]"
       ]
      }
     ], 
     "prompt_number": 15
    }, 
    {
     "cell_type": "code", 
     "collapsed": false, 
     "input": [
      "#z_n,k for top 5 and bottom 5", 
      "print g1.predict_proba(Xval1)[:5]", 
      "print g1.predict_proba(Xval1)[-5:]"
     ], 
     "language": "python", 
     "outputs": [
      {
       "output_type": "stream", 
       "stream": "stdout", 
       "text": [
        "[[  1.52250112e-179   1.00000000e+000]", 
        " [  6.63115912e-123   1.00000000e+000]", 
        " [  7.13048368e-143   1.00000000e+000]", 
        " [  1.77347086e-109   1.00000000e+000]", 
        " [  1.08048096e-108   1.00000000e+000]]", 
        "[[  1.00000000e+00   1.20865063e-68]", 
        " [  1.00000000e+00   6.32199763e-42]", 
        " [  1.00000000e+00   1.47734362e-21]", 
        " [  1.00000000e+00   1.45401822e-55]", 
        " [  1.00000000e+00   5.70893452e-87]]"
       ]
      }
     ], 
     "prompt_number": 17
    }, 
    {
     "cell_type": "code", 
     "collapsed": false, 
     "input": [
      "#Try gmm model with full covariance matrix for test case with 2 classes?", 
      "g2 = mixture.GMM(n_components=2, covariance_type='full') #type = 'diag' by default", 
      "g2.fit(X1)"
     ], 
     "language": "python", 
     "outputs": [
      {
       "output_type": "pyout", 
       "prompt_number": 18, 
       "text": [
        "GMM(covariance_type=None, init_params='wmc', min_covar=0.001, n_components=2,", 
        "  n_init=1, n_iter=100, params='wmc', random_state=None, thresh=0.01)"
       ]
      }
     ], 
     "prompt_number": 18
    }, 
    {
     "cell_type": "code", 
     "collapsed": false, 
     "input": [
      "p2 = g2.predict(Xval1)", 
      "print p2"
     ], 
     "language": "python", 
     "outputs": [
      {
       "output_type": "stream", 
       "stream": "stdout", 
       "text": [
        "[0 0 0 0 0 0 0 0 0 0 0 0 0 0 0 0 0 0 0 0 0 0 0 0 0 0 0 0 0 0 0 0 0 0 0 0 0", 
        " 0 0 0 0 0 0 0 0 0 0 0 0 0 0 0 0 0 0 0 0 0 0 0 0 0 0 0 0 0 0 0 0 0 0 0 0 0", 
        " 0 0 0 0 0 0 0 0 0 0 0 0 0 0 0 0 0 0 0 0 0 0 0 0 0 0 0 0 0 0 0 0 0 0 0 0 0", 
        " 0 0 0 0 0 0 0 0 0 0 0 0 0 0 0 0 0 0 0 0 0 0 0 0 0 0 0 0 0 0 0 0 0 0 0 0 0", 
        " 0 0 0 0 0 0 0 0 0 0 0 0 0 0 0 0 0 0 0 0 0 0 0 0 0 0 0 0 0 0 0 0 0 0 0 0 0", 
        " 0 0 0 0 0 0 0 0 0 0 0 0 0 0 0 1 1 1 1 1 1 1 1 1 1 1 1 1 1 1 1 1 1 1 1 1 1", 
        " 1 1 1 1 1 1 1 1 1 1 1 1 1 1 1 1 1 1 1 1 1 1 1 1 1 1 1 1 1 1 1 1 1 1 1 1 1", 
        " 1 1 1 1 1 1 1 1 1 1 1 1 1 1 1 1 1 1 1 1 1 1 1 1 1 1 1 1 1 1 1 1 1 1 1 1 1", 
        " 1 1 1 1 1 1 1 1 1 1 1 1 1]"
       ]
      }
     ], 
     "prompt_number": 19
    }, 
    {
     "cell_type": "code", 
     "collapsed": false, 
     "input": [
      "#perfect prediction for mobike v/s faces_easy!", 
      "print sum(p1)", 
      "print sum(p2)", 
      "print len(Yval1) - sum(map(lambda x: x-1, Yval1))"
     ], 
     "language": "python", 
     "outputs": [
      {
       "output_type": "stream", 
       "stream": "stdout", 
       "text": [
        "200", 
        "200", 
        "200"
       ]
      }
     ], 
     "prompt_number": 41
    }, 
    {
     "cell_type": "code", 
     "collapsed": false, 
     "input": [
      "hist(Yval1)", 
      "hist(p1)", 
      "hist(p2)"
     ], 
     "language": "python", 
     "outputs": [
      {
       "output_type": "pyout", 
       "prompt_number": 20, 
       "text": [
        "(array([200,   0,   0,   0,   0,   0,   0,   0,   0, 109]),", 
        " array([ 0. ,  0.1,  0.2,  0.3,  0.4,  0.5,  0.6,  0.7,  0.8,  0.9,  1. ]),", 
        " <a list of 10 Patch objects>)"
       ]
      }, 
      {
       "output_type": "display_data", 
       "png": "[encoded data removed]"
      }
     ], 
     "prompt_number": 20
    }, 
    {
     "cell_type": "code", 
     "collapsed": false, 
     "input": [
      "#test with first 6 classes instead", 
      "X2,Y2,a2,b2 = loadData()", 
      "Xval2, Yval2, aval2, bval2 = loadData('/media/Common/Eclipse/GMM/caltech101/validation/')"
     ], 
     "language": "python", 
     "outputs": [], 
     "prompt_number": 21
    }, 
    {
     "cell_type": "code", 
     "collapsed": false, 
     "input": [
      "X2 = np.array(X2[:500])", 
      "Y2 = np.array(Y2[:500])", 
      "print Y2", 
      "Xval2 = np.array(Xval2[:300])", 
      "Yval2 = np.array(Yval2[:300])", 
      "print Yval2"
     ], 
     "language": "python", 
     "outputs": [
      {
       "output_type": "stream", 
       "stream": "stdout", 
       "text": [
        "[1 1 1 1 1 1 1 1 1 1 1 1 1 1 1 1 1 1 1 1 1 1 1 2 2 2 2 2 2 2 2 2 2 2 2 2 2", 
        " 2 2 2 2 2 2 2 2 2 2 2 2 2 2 2 2 2 2 2 2 2 2 2 2 2 2 2 2 2 2 2 2 2 2 2 2 2", 
        " 2 2 2 2 2 2 2 2 2 2 2 2 2 2 2 2 2 2 2 2 2 2 2 2 2 2 2 2 2 2 2 2 2 2 2 2 2", 
        " 2 2 2 2 2 2 2 2 2 2 2 2 2 2 2 2 2 2 2 2 2 2 2 2 2 2 2 2 2 2 2 2 2 2 2 2 2", 
        " 2 2 2 2 2 2 2 2 2 2 2 2 2 2 2 2 2 2 2 2 2 2 2 2 2 2 2 2 2 2 2 2 2 2 2 2 2", 
        " 2 2 2 2 2 2 2 2 2 2 2 2 2 2 2 2 2 2 2 2 2 2 2 2 2 2 2 2 2 2 2 2 2 2 2 2 2", 
        " 2 2 2 2 2 2 2 2 2 2 2 2 2 2 2 2 2 2 3 3 3 3 3 3 3 3 3 3 3 3 3 3 3 3 3 3 3", 
        " 3 3 3 3 3 3 3 3 3 3 3 3 3 3 3 3 3 3 3 4 4 4 4 4 4 4 4 4 4 4 4 4 4 4 4 4 4", 
        " 4 5 5 5 5 5 5 5 5 5 5 5 5 5 5 5 5 5 5 5 5 5 5 5 5 5 5 5 6 6 6 6 6 6 6 6 6", 
        " 6 6 6 6 6 6 6 6 6 6 6 6 6 6 6 6 6 6 6 6 6 6 6 6 6 6 6 6 6 6 6 6 6 6 6 6 6", 
        " 6 6 6 6 6 6 6 6 6 6 6 6 6 6 6 6 6 6 6 6 6 6 6 6 6 6 6 6 6 6 6 6 6 6 6 6 6", 
        " 6 6 6 6 6 6 6 6 6 6 6 6 6 6 6 6 6 6 6 6 6 6 6 6 6 6 6 6 6 6 6 6 6 6 6 6 6", 
        " 6 6 6 6 6 6 6 6 6 6 6 6 6 6 6 6 6 6 6 6 6 6 6 6 6 6 6 6 6 6 6 6 6 6 6 6 6", 
        " 6 6 6 6 6 6 6 6 6 6 6 6 6 6 6 6 6 6 6]", 
        "[1 1 1 1 1 1 1 1 1 1 1 1 2 2 2 2 2 2 2 2 2 2 2 2 2 2 2 2 2 2 2 2 2 2 2 2 2", 
        " 2 2 2 2 2 2 2 2 2 2 2 2 2 2 2 2 2 2 2 2 2 2 2 2 2 2 2 2 2 2 2 2 2 2 2 2 2", 
        " 2 2 2 2 2 2 2 2 2 2 2 2 2 2 2 2 2 2 2 2 2 2 2 2 2 2 2 2 2 2 2 2 2 2 2 2 2", 
        " 2 2 2 2 2 2 2 2 2 2 3 3 3 3 3 3 3 3 3 3 3 3 3 3 3 3 3 3 3 3 4 4 4 4 4 4 4", 
        " 4 4 4 4 5 5 5 5 5 5 5 5 5 5 5 5 5 5 6 6 6 6 6 6 6 6 6 6 6 6 6 6 6 6 6 6 6", 
        " 6 6 6 6 6 6 6 6 6 6 6 6 6 6 6 6 6 6 6 6 6 6 6 6 6 6 6 6 6 6 6 6 6 6 6 6 6", 
        " 6 6 6 6 6 6 6 6 6 6 6 6 6 6 6 6 6 6 6 6 6 6 6 6 6 6 6 6 6 6 6 6 6 6 6 6 6", 
        " 6 6 6 6 6 6 6 6 6 6 6 6 6 6 6 6 6 6 6 6 6 6 6 6 6 6 6 6 6 6 6 6 6 6 6 6 6", 
        " 6 6 6 6]"
       ]
      }, 
      {
       "output_type": "stream", 
       "stream": "stdout", 
       "text": [
        ""
       ]
      }
     ], 
     "prompt_number": 22
    }, 
    {
     "cell_type": "code", 
     "collapsed": false, 
     "input": [
      "g3 = mixture.GMM(n_components=6) #type = 'diag' by default", 
      "g3.fit(X2)", 
      "p3 = g3.predict(Xval2)", 
      "print p3"
     ], 
     "language": "python", 
     "outputs": [
      {
       "output_type": "stream", 
       "stream": "stdout", 
       "text": [
        "[4 4 0 5 2 1 4 1 4 5 5 0 3 3 3 0 0 0 3 3 0 0 3 0 0 3 3 0 0 3 3 3 0 0 3 3 3", 
        " 0 3 0 0 0 0 3 3 0 3 0 3 3 3 3 3 0 5 3 3 0 0 3 5 3 3 3 0 0 0 3 0 0 0 0 3 0", 
        " 0 0 0 0 3 0 3 0 3 3 3 0 0 0 0 3 3 5 5 0 3 3 3 0 0 3 3 3 3 0 3 0 3 3 3 3 3", 
        " 0 3 3 3 3 0 3 3 3 0 5 3 4 5 5 5 5 3 3 1 5 5 3 1 1 5 1 5 5 3 4 4 4 4 4 5 5", 
        " 4 4 5 4 5 5 5 5 5 5 5 5 5 5 5 5 5 5 1 1 1 4 4 1 4 2 5 1 0 1 1 1 5 1 1 4 1", 
        " 1 1 2 2 2 2 2 2 2 2 2 2 2 1 1 2 1 2 2 1 2 2 4 4 2 2 2 2 2 2 2 2 2 2 2 4 4", 
        " 2 4 1 1 1 1 1 1 2 1 1 1 1 1 1 1 1 2 2 2 2 2 2 4 2 4 4 2 2 5 2 2 2 2 4 4 2", 
        " 4 4 4 4 1 1 1 1 1 1 1 1 1 1 1 4 1 2 1 1 1 1 1 1 2 2 2 2 2 2 2 2 2 2 2 1 1", 
        " 1 1 1 2]"
       ]
      }
     ], 
     "prompt_number": 23
    }, 
    {
     "cell_type": "code", 
     "collapsed": false, 
     "input": [
      "g4 = mixture.GMM(n_components=6, covariance_type='full') #type = 'diag' by default", 
      "g4.fit(X2)", 
      "p4 = g4.predict(Xval2)", 
      "print p4"
     ], 
     "language": "python", 
     "outputs": [
      {
       "output_type": "stream", 
       "stream": "stdout", 
       "text": [
        "[0 0 1 1 1 1 0 1 0 1 1 1 1 1 1 1 0 1 1 1 1 1 1 0 0 1 1 1 1 1 1 1 1 1 4 1 1", 
        " 1 1 1 0 1 1 1 1 1 1 1 1 1 1 1 1 4 1 1 1 1 0 1 1 1 1 1 1 0 1 1 1 1 1 1 1 1", 
        " 0 0 1 1 1 1 1 1 1 1 1 1 1 1 1 1 1 1 1 1 1 1 1 1 1 1 1 1 1 1 1 1 1 1 4 1 1", 
        " 1 1 1 1 1 1 1 1 1 0 0 1 1 1 1 1 1 1 1 2 1 1 4 1 1 1 1 1 1 1 0 0 0 0 0 1 0", 
        " 0 0 1 1 1 1 1 1 1 1 1 1 1 1 1 1 1 1 4 1 1 1 4 1 0 5 1 2 1 1 2 1 1 1 1 1 4", 
        " 4 4 2 5 5 1 5 5 1 1 5 5 5 2 1 1 4 1 5 4 5 5 1 3 1 1 5 5 5 5 5 5 5 1 5 3 3", 
        " 5 0 5 1 2 4 2 1 1 4 4 2 4 2 1 1 1 1 1 1 0 1 1 0 5 1 3 1 1 1 5 5 1 5 3 0 1", 
        " 3 3 1 3 1 4 4 4 4 1 4 1 4 1 1 1 1 5 4 4 4 1 4 1 5 5 5 5 5 5 5 5 5 5 5 4 4", 
        " 1 1 1 5]"
       ]
      }
     ], 
     "prompt_number": 24
    }, 
    {
     "cell_type": "code", 
     "collapsed": false, 
     "input": [
      "hist(Yval2)", 
      "hist(p3)", 
      "hist(p4)"
     ], 
     "language": "python", 
     "outputs": [
      {
       "output_type": "pyout", 
       "prompt_number": 25, 
       "text": [
        "(array([ 27,   0, 191,   0,   9,   0,   8,   0,  27,  38]),", 
        " array([ 0. ,  0.5,  1. ,  1.5,  2. ,  2.5,  3. ,  3.5,  4. ,  4.5,  5. ]),", 
        " <a list of 10 Patch objects>)"
       ]
      }, 
      {
       "output_type": "display_data", 
       "png": "[encoded data removed]"
      }
     ], 
     "prompt_number": 25
    }, 
    {
     "cell_type": "code", 
     "collapsed": false, 
     "input": [
      "g3.weights_"
     ], 
     "language": "python", 
     "outputs": [
      {
       "output_type": "pyout", 
       "prompt_number": 26, 
       "text": [
        "array([ 0.20602643,  0.15000225,  0.15800074,  0.26801601,  0.0939994 ,", 
        "        0.12395517])"
       ]
      }
     ], 
     "prompt_number": 26
    }, 
    {
     "cell_type": "code", 
     "collapsed": false, 
     "input": [
      "g4.weights_"
     ], 
     "language": "python", 
     "outputs": [
      {
       "output_type": "pyout", 
       "prompt_number": 27, 
       "text": [
        "array([ 0.19 ,  0.306,  0.136,  0.074,  0.162,  0.132])"
       ]
      }
     ], 
     "prompt_number": 27
    }, 
    {
     "cell_type": "code", 
     "collapsed": false, 
     "input": [
      "g4.means_ - g3.means_"
     ], 
     "language": "python", 
     "outputs": [
      {
       "output_type": "pyout", 
       "prompt_number": 28, 
       "text": [
        "array([[  2.37696025e-02,  -2.81473749e-05,  -3.18290517e-02, ...,", 
        "         -6.15520828e-03,  -2.08933111e-04,   2.07233920e-03],", 
        "       [ -5.18576232e-02,   6.47573700e-03,   6.05833319e-02, ...,", 
        "         -1.68148525e-03,  -6.97885768e-04,  -3.54261763e-02],", 
        "       [ -1.56971356e-02,   1.09835474e-02,  -2.13810079e-02, ...,", 
        "         -2.74104510e-02,  -1.77583057e-03,  -3.11465323e-03],", 
        "       [  7.22879000e-02,  -2.37825850e-03,  -4.15002721e-02, ...,", 
        "         -1.25305052e-01,   3.15149079e-03,   7.64158214e-03],", 
        "       [ -5.75362851e-02,   4.62138398e-03,   3.17470278e-02, ...,", 
        "          9.95218915e-02,  -1.96006806e-03,  -4.08417243e-03],", 
        "       [  3.35060994e-02,  -2.42651989e-02,   2.05704170e-02, ...,", 
        "          8.85713514e-02,   1.22790386e-03,   6.34153476e-02]])"
       ]
      }
     ], 
     "prompt_number": 28
    }, 
    {
     "cell_type": "code", 
     "collapsed": false, 
     "input": [
      "g3.predict_proba(Xval2)"
     ], 
     "language": "python", 
     "outputs": [
      {
       "output_type": "pyout", 
       "prompt_number": 29, 
       "text": [
        "array([[  2.44206777e-021,   9.90314762e-150,   6.51981576e-106,", 
        "          2.58736887e-113,   1.00000000e+000,   1.98499867e-041],", 
        "       [  4.21183944e-002,   6.89151831e-091,   3.95318649e-090,", 
        "          2.67603164e-067,   9.57881606e-001,   5.39591924e-055],", 
        "       [  9.99999545e-001,   1.08376436e-014,   5.05524019e-046,", 
        "          4.54611536e-007,   6.02447827e-015,   4.65847671e-028],", 
        "       ..., ", 
        "       [  6.49030347e-049,   1.00000000e+000,   8.97895907e-036,", 
        "          7.94930647e-037,   3.38881444e-055,   4.51292550e-051],", 
        "       [  9.18562942e-044,   1.00000000e+000,   1.75857143e-057,", 
        "          2.86315465e-033,   3.56561263e-067,   1.70465828e-029],", 
        "       [  2.45763353e-055,   4.32178705e-060,   1.00000000e+000,", 
        "          5.59718356e-095,   4.13896783e-026,   5.46729368e-063]])"
       ]
      }
     ], 
     "prompt_number": 29
    }, 
    {
     "cell_type": "code", 
     "collapsed": false, 
     "input": [
      "g4.predict_proba(Xval2)"
     ], 
     "language": "python", 
     "outputs": [
      {
       "output_type": "pyout", 
       "prompt_number": 30, 
       "text": [
        "array([[  1.00000000e+000,   2.06851559e-045,   0.00000000e+000,", 
        "          0.00000000e+000,   0.00000000e+000,   4.24069799e-197],", 
        "       [  1.00000000e+000,   1.19484886e-069,   0.00000000e+000,", 
        "          0.00000000e+000,   0.00000000e+000,   0.00000000e+000],", 
        "       [  4.64652479e-127,   1.00000000e+000,   4.96766766e-179,", 
        "          0.00000000e+000,   2.04842618e-065,   4.21297222e-156],", 
        "       ..., ", 
        "       [  2.99758143e-158,   1.00000000e+000,   7.93154912e-061,", 
        "          0.00000000e+000,   7.33969458e-037,   8.58930849e-130],", 
        "       [  1.34018949e-087,   1.00000000e+000,   6.58395006e-016,", 
        "          0.00000000e+000,   8.27332235e-059,   8.99629421e-131],", 
        "       [  8.78742740e-154,   4.92349322e-130,   6.38910935e-241,", 
        "          1.25123140e-240,   0.00000000e+000,   1.00000000e+000]])"
       ]
      }
     ], 
     "prompt_number": 30
    }, 
    {
     "cell_type": "code", 
     "collapsed": true, 
     "input": [], 
     "language": "python", 
     "outputs": []
    }
   ]
  }
 ]
}