{
 "metadata": {
  "name": "pa04"
 }, 
 "nbformat": 2, 
 "worksheets": [
  {
   "cells": [
    {
     "cell_type": "markdown", 
     "source": [
      "#PA04 Unsupervised Learning: dimensionality reduction", 
      "", 
      "In this short programming assignment you will apply dimensionality reduction on the movie rating data from PA03."
     ]
    }, 
    {
     "cell_type": "markdown", 
     "source": [
      "###Part I: Collaborative Filtering ratings revisited", 
      "", 
      "In PA03 you used user-user and item-item similarity to generate expected ratings by collaborative filtering.", 
      "We defined similarity by representing each user (or item) as sparse vectors in a high-dimensional space. For example,", 
      "in the user-user similarity case, we represented each user as a vector in a space of dimensions equal to the number of movies", 
      "in the dataset. We then computed cosine similarities in this high-dimensional space.", 
      "", 
      "In this assignment you will perform a dimensionality reduction method before computing similarities."
     ]
    }, 
    {
     "cell_type": "markdown", 
     "source": [
      "Q1: Implement the principal component analysis method. To compute a $k$-dimensional embedding (where $k$ is much lower than the data-dimensionality $D$), you need to calculate", 
      "the first $k$ eigenvectors of the sparse ratings matrix. You should get acquainted with the [`scipy.sparse`](http://docs.scipy.org/doc/scipy/reference/sparse.html) library, ", 
      "and its linear algebra facilities [`numpy.sparse.linalg`](http://docs.scipy.org/doc/scipy/reference/sparse.linalg.html). You should implement a function of signature", 
      "", 
      "<pre>", 
      "<code>", 
      "def pca(df, axis=0, k):", 
      "\"\"\"", 
      "Compute a k-dimensional embedding of matrix mat using PCA", 
      "", 
      "Arguments:", 
      "df: a two-dimensional pandas DataFrame with columns userid, itemid and rating", 
      "axis: which axis to treat as examples (0 or 1)", 
      "k: number of dimensions in embedding", 
      "", 
      "Returns:", 
      "numpy matrix of shape (m,k) where m is the number of unique userids in df when axis=0 ", 
      "and m is the number of unique itemids in df when axis=1", 
      "\"\"\"", 
      "</code>", 
      "</pre>"
     ]
    }, 
    {
     "cell_type": "markdown", 
     "source": [
      "###Response:", 
      "", 
      "Below is our implementation of the method required:"
     ]
    }, 
    {
     "cell_type": "markdown", 
     "source": [
      "<pre><code>'''", 
      "Created on Nov 29, 2012", 
      "", 
      "@author: jason", 
      "'''", 
      "from inspect import stack", 
      "import pandas as pd", 
      "import numpy as np", 
      "import sys", 
      "import os", 
      "import pickle as pkl", 
      "from util.mlExceptions import DatasetError, LogicalError", 
      "from scipy.sparse import lil_matrix, csr_matrix", 
      "from scipy.sparse.linalg import eigs, svds", 
      "", 
      "# Global constant for current function name", 
      "", 
      "CURR_FUNC_NAME = stack()[0][3]", 
      "", 
      "def pca(df, k, axis = 0):", 
      "    ", 
      "    \"\"\"", 
      "    This PCA implementation is geared towards solving question 1 of the programming assignment.", 
      "    Effectively, the df array is constrained to contain only three columns: userid, movieid and ", 
      "    rating. We will then create a sparse |unique_user_id| X |unique_movie_id| matrix (or the other", 
      "    way round, dependent on the value of \"axis\", which we will then embed in k dimensions. ", 
      "    ", 
      "    @param df: a two-dimensional pandas DataFrame with columns userid, itemid and rating", 
      "    @param axis: which axis to treat as examples (0 or 1)", 
      "    @param k: number of dimensions in embedding", 
      "    @return numpy matrix of shape (m,k) where m is the number of unique userids in df when axis=0 ", 
      "        and m is the number of unique itemids in df when axis=1", 
      "    @raise DatasetError when the dataset provided is None or empty", 
      "    @raise LogicalError when axis is neither 0 nor 1, or k <= 0", 
      "    \"\"\"", 
      "    ", 
      "    # Sanity checking", 
      "    ", 
      "    if axis not in [0, 1]:", 
      "        raise LogicalError, \"Method %s: \\\"axis\\\" variable should be either 0 or 1 (provided: %s).\" %(CURR_FUNC_NAME, str(axis))", 
      "    if k <= 0 or not isinstance(k, int):", 
      "        raise LogicalError, \"Method %s: number k of embedding dimensions should be a positive integer (provided: %s).\" %(CURR_FUNC_NAME, str(k))", 
      "    if df is None or df.shape[0] == 0 or df.shape[1] == 0:", 
      "        raise DatasetError, \"Method %s: empty dataset provided.\" %(CURR_FUNC_NAME)", 
      "    ", 
      "    if len(df.columns.values) != 3:", 
      "        raise DatasetError, \"Method %s: the dataframe provided should have exactly 3 columns.\" %(CURR_FUNC_NAME)", 
      "    ", 
      "    if 'userid' not in df.columns.values[0] or 'itemid' not in df.columns.values or 'rating' not in df.columns.values:", 
      "        raise DatasetError, \"Method %s: the dataframe provided should have 3 columns named \\\"userid\\\", \\\"itemid\\\" and \\\"rating\\\".\" %(CURR_FUNC_NAME)", 
      "    ", 
      "    # Load the dataframe values in a hash. It will make life easier.", 
      "    ", 
      "    ratingsHash = {}", 
      "    for _row_indx, (userid, itemid, rating) in df.iterrows():", 
      "        ratingsHash[(userid, itemid)] = rating", 
      "    ", 
      "    # We now need to make our m x n sparse array.", 
      "    ", 
      "    rowIndex = 'userid' if axis == 0 else 'itemid'", 
      "    columnIndex = 'itemid' if axis == 0 else 'userid'", 
      "    uniqueRows = df[rowIndex].unique()", 
      "    uniqueCols = df[columnIndex].unique()", 
      "    ", 
      "    sparseArr = np.zeros((len(uniqueRows), len(uniqueCols)))    # zerofill initially", 
      "    for i in range(len(uniqueRows)):", 
      "        for j in range(len(uniqueCols)):", 
      "            if (uniqueRows[i], uniqueCols[j]) in ratingsHash:", 
      "                sparseArr[i][j] = ratingsHash[(uniqueRows[i], uniqueCols[j])]", 
      "", 
      "    # Compute the covariance matrix", 
      "    ", 
      "    covMat = np.cov(sparseArr.T)", 
      "    ", 
      "    # A compressed representation is needed because we need to center sparse data.", 
      "    ", 
      "    csr_rep = lil_matrix(sparseArr).tocsr()", 
      "    for c in range(csr_rep.shape[axis]):", 
      "        sparseArr[c, :][sparseArr[c, :].nonzero()] -= np.mean(csr_rep.getcol(c).data)", 
      "    ", 
      "    # Find eigenvalues, compute and return k-dimensional embedding", 
      "    ", 
      "    _eigenVals, eigenVecs = eigs(covMat, k)", 
      "  ", 
      "    # Re-arrange eigenvectors so that you get the most significant components first.", 
      "    eigenVecs = eigenVecs[:, np.argsort(-eigenVals)]", 
      "", 
      "    return sparseArr.dot(eigenVecs)", 
      "</code></pre>"
     ]
    }, 
    {
     "cell_type": "markdown", 
     "source": [
      "Q2: Plot a two-dimensional embedding of movies labeled by genre. Discuss.", 
      "", 
      "###Response:", 
      "", 
      "Roughly 70% of movies in our dataset belong to more than one genre. Therefore, we cannot plot the embedding without significant loss in visual", 
      "clarity. As discussed in class, a reasonably alternative is to plot the movies labeled by release decade. This is what we will do."
     ]
    }, 
    {
     "cell_type": "code", 
     "collapsed": true, 
     "input": [
      "import sys, os", 
      "sys.path.append(os.getcwd() + \"/code\")", 
      "", 
      "# First, retrieve the two-dimensional embedding, using the function we defined.", 
      "", 
      "from PCA import pca", 
      "import numpy as np", 
      "import pandas as pd", 
      "ratings_train = pd.load('proc_data/ratings_train.pda')", 
      "movieEmbedding = pca(ratings_train[['userid', 'itemid', 'rating']], 2, 1).real # Careful to get only real parts"
     ], 
     "language": "python", 
     "outputs": [], 
     "prompt_number": 11
    }, 
    {
     "cell_type": "code", 
     "collapsed": false, 
     "input": [
      "# Second, associate each movie with its decade.", 
      "import matplotlib.pyplot as pyp", 
      "movdeclist = ratings_train[['itemid', 'decade']].groupby(['itemid', 'decade']).groups.keys()", 
      "decades = [movdeclist[i][1] for i in range(len(movdeclist))]", 
      "colorHash = {20: '#FF8000', 30: '#2EFE2E', 40 : '#FF0000', 50: '#190718', 60: '#0000FF', 70: '#F7FE2E', 80: '#FF00BF', 90: '#61210B'} ", 
      "colors = [colorHash[el] for el in decades]", 
      "", 
      "# Third, plot the data", 
      "x = movieEmbedding[:, 0]", 
      "y = movieEmbedding[:, 1]", 
      "pyp.title(\"Two dimensional embedding of movies labeled by decade\")", 
      "pyp.figsize(8, 6)", 
      "pyp.scatter(x, y, s=20, c=colors)", 
      "pyp.show()"
     ], 
     "language": "python", 
     "outputs": [
      {
       "output_type": "display_data", 
       "png": "[encoded data removed]"
      }
     ], 
     "prompt_number": 12
    }, 
    {
     "cell_type": "markdown", 
     "source": [
      "It appears as if most movies in the same area in the two-dimensional space, which implies that there exists a portion of movies that all users have rated.", 
      "Indeed, one cannot argue that, despite the movie release decade, certain movies stand out against the rest in terms of popularity."
     ]
    }, 
    {
     "cell_type": "markdown", 
     "source": [
      "Q3: Plot a two-dimensional embedding of users. Is there any salient structure explainable by the user features in the database?"
     ]
    }, 
    {
     "cell_type": "markdown", 
     "source": [
      "###Response:", 
      "", 
      "Refer to the code cell below."
     ]
    }, 
    {
     "cell_type": "code", 
     "collapsed": false, 
     "input": [
      "userEmbedding = pca(ratings_train[['userid', 'itemid', 'rating']], 2, 0).real", 
      "pyp.scatter(userEmbedding[:, 0], userEmbedding[:, 1], s = 20, c = '#AAAAAA')", 
      "pyp.title(\"Two dimensional embedding of users\")", 
      "pyp.figsize(8, 6)", 
      "pyp.show()"
     ], 
     "language": "python", 
     "outputs": [
      {
       "output_type": "display_data", 
       "png": "[encoded data removed]"
      }
     ], 
     "prompt_number": 13
    }, 
    {
     "cell_type": "markdown", 
     "source": [
      "Once again, most users appear to be clustering in an area of the plot. The reason for this is interesting. The following analysis of the user features", 
      "in the training data reveals the pattern that most raters are male students:"
     ]
    }, 
    {
     "cell_type": "code", 
     "collapsed": false, 
     "input": [
      "from collections import Counter", 
      "genderCounts = Counter(ratings_train['gender'].values).most_common()", 
      "print genderCounts", 
      "occupationCounts = Counter(ratings_train['occupation'].values).most_common()", 
      "print occupationCounts"
     ], 
     "language": "python", 
     "outputs": [
      {
       "output_type": "stream", 
       "stream": "stdout", 
       "text": [
        "[('M', 67554), ('F', 23008)]", 
        "[('student', 19996), ('other', 9612), ('educator', 8491), ('engineer', 7504), ('programmer', 7141), ('administrator', 6689), ('writer', 5085), ('librarian', 4763), ('technician', 3235), ('executive', 3083), ('healthcare', 2644), ('artist', 2028), ('entertainment', 1914), ('scientist', 1748), ('marketing', 1690), ('retired', 1469), ('lawyer', 1225), ('none', 810), ('salesman', 736), ('doctor', 470), ('homemaker', 229)]"
       ]
      }
     ], 
     "prompt_number": 14
    }, 
    {
     "cell_type": "markdown", 
     "source": [
      "The two-dimensional embedding is able to capture exactly these patterns, and this is evident by the clustering of the users together around the origin", 
      "of the co-ordinate system."
     ]
    }, 
    {
     "cell_type": "markdown", 
     "source": [
      "Q4: Implement a method that uses low dimensional embeddings to calculate expected ratings using collaborative filtering. This requires that you define similarity on the low-dimensional space. ", 
      "Compare collaborative filtering expected ratings from low-dimensional embedding to those we got originally from the high-dimensional space. Discuss the effect of the cardinality of the low-dimensional", 
      "space on the accuracy of these ratings."
     ]
    }, 
    {
     "cell_type": "markdown", 
     "source": [
      "###Response: ", 
      "", 
      "We first experimented using user-user collaborative filtering. Note that in PP03 we calculated training accuracy twofold: first, we ", 
      "calculated the mean deviation from the true rating, in order to be able to answer the question: \"On average, how much do our ratings deviate from the true rating\"?", 
      "In addition, we provided the misclassification error with respect to the \"isgood\" column. We did this because, given that a movie with rating > 3 is considered to", 
      "be good, an average deviation from the true rating of, say, 1.5 doesn't tell the whole story: we need to be able to tell whether this average deviation also tends", 
      "to produce misclassifications of movies as good or not. In this configuration, we obtained an average rating deviation of 0.861130959851 and an average misclassification", 
      "error of 35.35% for user-user similarities and an average rating deviation of 0.771 and misclassification error of 35.85% for item-item similarities.", 
      "", 
      "In order to calculate user similarities in a low dimensional space, we performed small modifications in the provided code for PP03. Specifically, ", 
      "now we have a different vectoral representation of users; therefore, we need to calculate user similarities over this new, compressed vector space.", 
      "To do this, we modified the computation of the users' norms in the CFilter object's constructor as shown below:"
     ]
    }, 
    {
     "cell_type": "markdown", 
     "source": [
      "<pre><code>", 
      "def __init__(self, ratings, userVecs, size=20):", 
      "        \"\"\"", 
      "        Constructor.", 
      "        @param ratings -- a pandas.DataFrame of movie ratings ", 
      "        @param userVecs: a k-space embedding of users", 
      "        @param size -- user neighborhood size (default=20)", 
      "        \"\"\"", 
      "        ", 
      "        self.size = size", 
      "        self.ratings = make_ratings_hash(ratings)       # ratings is now a hash with (user_id, movie_id) as the keys and movie_rating as the values", 
      "        ", 
      "        # norms are computed in terms of the vectoral representation of users", 
      "        norms = {user: norm(userVecs[user]) for user in range(userVecs.shape[0])}", 
      "        self.neighbors, self.weights = make_neighborhood_hash(range(userVecs.shape[0]), userVecs, size, norms)  # notice that \"self.ratings\" is passed, not \"ratings\"", 
      "</code></pre>"
     ]
    }, 
    {
     "cell_type": "markdown", 
     "source": [
      "where the call to \"norm\" corresponds to numpy.linalg.norm, which defaults to the L2 norm. We also proceeded to change the way in which the numerator of the", 
      "cosine similarity is calculated, by modifying the \"get_user_neighborhood\" method as follows:"
     ]
    }, 
    {
     "cell_type": "markdown", 
     "source": [
      "<pre><code>", 
      "def get_user_neighborhood(userVecs, curruserid, size, norms):", 
      "    ", 
      "    \"\"\"", 
      "    Find the nearest users and their cosine similarity to a given user", 
      "    @param userVecs -- a 2D numpy array holding the vectoral representation of users", 
      "    @param curruserid -- the id of the user whose neighborhood is being calculated", 
      "    @param size -- the number of users to be considered for user \"userid\"'s neighborhood", 
      "    @param norms -- a named vector (pandas.Series) of user l2 norms in rating space", 
      "    @return users -- a vector of the ids of the nearest users (the neighbors)", 
      "    @return weights -- a vector of cosine similarities for the neighbors", 
      "    \"\"\"", 
      "    hash = {}", 
      "    for otheruserid in range(userVecs.shape[0]):", 
      "        if otheruserid == curruserid:", 
      "            continue", 
      "        # cosine similarity calculation", 
      "        hash[otheruserid] = userVecs[otheruserid].dot(userVecs[curruserid]) / float(norms[otheruserid] * norms[curruserid])", 
      "    # end for", 
      "    ", 
      "    indx = np.argsort(-np.array(hash.values()))[:size]                  # find the indices that sort the hash by cosine similarity in DESCENDING (-) order", 
      "    users = np.array(hash.keys())[indx]                                 # and retrieve the top \"size\" ones. Then, retrieve both the users (keys)", 
      "    weights = np.array(hash.values())[indx]                             # and the similarities themselves", 
      "    return users, weights      ", 
      "</code></pre>"
     ]
    }, 
    {
     "cell_type": "markdown", 
     "source": [
      "We used the following main function to find the embedding which yielded the best results. We tuned for all embeddings from 2 up to 1676 with a step of 20,", 
      "to conserve some time."
     ]
    }, 
    {
     "cell_type": "markdown", 
     "source": [
      "<pre><code>", 
      "if __name__ == \"__main__\":", 
      "    ", 
      "    os.chdir(\"..\")", 
      "    ratings_train = pd.load('proc_data/ratings_train.pda')", 
      "   ", 
      "    accuracyList = list() # a list of (embedding, deviation_from_rating, misclassification_error) tuples", 
      "    for k in range(2, 1677, 20):", 
      "        ", 
      "        #Get user embedding", 
      "        ", 
      "        userEmbedding = pca(ratings_train[['userid', 'itemid', 'rating']], k, 0).real", 
      "        print \"Computed %d-dimensional user embedding.\" %(k)", 
      "        ", 
      "        # Calculate collaborative filtering ratings", 
      "        ", 
      "        cf = CFilter(ratings_train, userEmbedding, size = 20)", 
      "        print \"Built CFilter object\"", 
      "        predictedRatings = cf.get_user_cf_rating(ratings_train)", 
      "        ", 
      "        # Estimate training error in terms of two metrics: average deviation from true", 
      "        # rating and average misclassification error in terms of classifying a movie", 
      "        # as \"good\" or \"bad\".", 
      "        ", 
      "        predictedLabels = np.array([1 if rat > 3 else 0 for rat in predictedRatings])", 
      "        # make the \"isgood\" column of the data map to {0,1} instead of {-1, 1}", 
      "        # so that average squared loss works correctly", 
      "        trueLabels = np.array([1 if lab == 1 else 0 for lab in ratings_train['isgood']])", 
      "        avgRatingDeviation = np.sum(np.abs(predictedRatings- ratings_train['rating'])) / float(ratings_train.shape[0])", 
      "        avgSqLoss = np.sum(np.square(predictedLabels - trueLabels)) / float(ratings_train.shape[0])", 
      "        accuracyList.append((k, avgRatingDeviation, avgSqLoss))", 
      "        print \"Predicted rating for embedding %d. Average deviation from true rating: %.4f. Average squared loss: %.4f%%.\" %(k, avgRatingDeviation,100*avgSqLoss)", 
      "        ", 
      "    pkl.dump(accuracyList, open('output_data/accuracyList_big.pkl', 'wb'))", 
      "    print \"Done. Exiting...\"", 
      "</code></pre>"
     ]
    }, 
    {
     "cell_type": "markdown", 
     "source": [
      "Let's unpickle the stored object and observe data about the training accuracy."
     ]
    }, 
    {
     "cell_type": "code", 
     "collapsed": false, 
     "input": [
      "import pickle as pkl", 
      "fp = open('output_data/accuracyList_big.pkl', 'rb')", 
      "accuracies = pkl.load(fp)", 
      "fp.close()", 
      "print \"Mean average deviation from true rating detected: %.4f.\"  %(np.mean([el[1] for el in accuracies]))", 
      "print \"Standard deviation of average true rating deviations: %.4f.\" %(np.std([el[1] for el in accuracies]))", 
      "bestConfiguration = sorted(accuracies, key=lambda data: data[1])[0] # by default, sorted() does ascending order", 
      "print \"Best configuration was attained by a %d-dimensional embedding, yielding an average rating deviation of %.4f and an error rating of %.4f.\" %(bestConfiguration[0], bestConfiguration[1], bestConfiguration[2])"
     ], 
     "language": "python", 
     "outputs": [
      {
       "output_type": "stream", 
       "stream": "stdout", 
       "text": [
        "Mean average deviation from true rating detected: 1.3175.", 
        "Standard deviation of average true rating deviations: 0.0058.", 
        "Best configuration was attained by a 2-dimensional embedding, yielding an average rating deviation of 1.3080 and an error rating of 0.3925."
       ]
      }
     ], 
     "prompt_number": 15
    }, 
    {
     "cell_type": "markdown", 
     "source": [
      "As expected, the low-dimensional embeddings have caused an average increase in the average deviation from the true label. This is to be expected: projecting", 
      "the space on a lower dimension will always yield some loss in accuracy. However, among all the low-dimensional", 
      "embeddings calculated, it was the smallest embedding (2-dimensional) that yielded the smallest deviation. Let's see what the results concerning misclassification error", 
      "look like:"
     ]
    }, 
    {
     "cell_type": "code", 
     "collapsed": false, 
     "input": [
      "print \"Mean misclassification error detected: %.4f.\"  %(np.mean([el[2] for el in accuracies]))", 
      "print \"Standard deviation of misclassification errors: %.4f.\" %(np.std([el[2] for el in accuracies]))", 
      "bestConfiguration = sorted(accuracies, key=lambda data: data[2])[0] # by default, sorted() does ascending order", 
      "print \"Best configuration was attained by a %d-dimensional embedding, yielding a misclassification error of %.4f and an average rating deviation of %.4f.\" %(bestConfiguration[0], bestConfiguration[2], bestConfiguration[1])"
     ], 
     "language": "python", 
     "outputs": [
      {
       "output_type": "stream", 
       "stream": "stdout", 
       "text": [
        "Mean misclassification error detected: 0.3919.", 
        "Standard deviation of misclassification errors: 0.0010.", 
        "Best configuration was attained by a 1552-dimensional embedding, yielding a misclassification error of 0.3903 and an average rating deviation of 1.3161."
       ]
      }
     ], 
     "prompt_number": 16
    }, 
    {
     "cell_type": "markdown", 
     "source": [
      "So, as far as misclassification error is concerned, we once again observe an increase in the error rate. It was a 1552-dimensional embedding that yielded the lowest", 
      "misclassification error, at 39.03%.", 
      "", 
      "The following are similar stats for item-item similarity."
     ]
    }, 
    {
     "cell_type": "code", 
     "collapsed": false, 
     "input": [
      "import pickle as pkl", 
      "fp = open('output_data/accuracyList_item_item.pkl', 'rb')", 
      "accuracies = pkl.load(fp)", 
      "fp.close()", 
      "print \"Mean average deviation from true rating detected: %.4f.\"  %(np.mean([el[1] for el in accuracies]))", 
      "print \"Standard deviation of average true rating deviations: %.4f.\" %(np.std([el[1] for el in accuracies]))", 
      "bestConfiguration = sorted(accuracies, key=lambda data: data[1])[0] # by default, sorted() does ascending order", 
      "print \"Best configuration was attained by a %d-dimensional embedding, yielding an average rating deviation of %.4f and an error rating of %.4f.\" %(bestConfiguration[0], bestConfiguration[1], bestConfiguration[2])"
     ], 
     "language": "python", 
     "outputs": [
      {
       "output_type": "stream", 
       "stream": "stdout", 
       "text": [
        "Mean average deviation from true rating detected: 1.4383.", 
        "Standard deviation of average true rating deviations: 0.0088.", 
        "Best configuration was attained by a 82-dimensional embedding, yielding an average rating deviation of 1.4150 and an error rating of 0.4263."
       ]
      }
     ], 
     "prompt_number": 17
    }, 
    {
     "cell_type": "code", 
     "collapsed": false, 
     "input": [
      "print \"Mean misclassification error detected: %.4f.\"  %(np.mean([el[2] for el in accuracies]))", 
      "print \"Standard deviation of misclassification errors: %.4f.\" %(np.std([el[2] for el in accuracies]))", 
      "bestConfiguration = sorted(accuracies, key=lambda data: data[2])[0] # by default, sorted() does ascending order", 
      "print \"Best configuration was attained by a %d-dimensional embedding, yielding a misclassification error of %.4f and an average rating deviation of %.4f.\" %(bestConfiguration[0], bestConfiguration[2], bestConfiguration[1])"
     ], 
     "language": "python", 
     "outputs": [
      {
       "output_type": "stream", 
       "stream": "stdout", 
       "text": [
        "Mean misclassification error detected: 0.4307.", 
        "Standard deviation of misclassification errors: 0.0019.", 
        "Best configuration was attained by a 122-dimensional embedding, yielding a misclassification error of 0.4256 and an average rating deviation of 1.4177."
       ]
      }
     ], 
     "prompt_number": 18
    }, 
    {
     "cell_type": "markdown", 
     "source": [
      "The error introduced by the low-dimensional embedding is, once again, evident."
     ]
    }, 
    {
     "cell_type": "markdown", 
     "source": [
      "###Part II: Classification using new ratings"
     ]
    }, 
    {
     "cell_type": "markdown", 
     "source": [
      "Q5: Add the new collaborative filtering ratings from Part I to your best classifier from PA03. Discuss accuracy performance."
     ]
    }, 
    {
     "cell_type": "markdown", 
     "source": [
      "In order to add our collaborative filtering ratings, we will need to alter our data in the same way that we altered it in PP03, by dropping the \"itemid\",", 
      "\"userid\" and \"ratings\" columns and adding our custom \"cf_user_rating\" and \"cf_item_rating\" columns. Those columns correspond to collaborative filtering", 
      "ratings, one per training example. Given the configurations we discovered above, we will use the optimal ones for both user-user collaborative filtering ", 
      "and item-item collaborative filtering. Let's do so first:"
     ]
    }, 
    {
     "cell_type": "code", 
     "collapsed": true, 
     "input": [
      "# Get \"optimal\" collaborative filtering labels", 
      "from cfiltering import CFilter", 
      "from cfiltering_item import CFilter_item", 
      "import numpy as np", 
      "", 
      "userembedding = pca(ratings_train[['userid', 'itemid', 'rating']], 1552, 0).real # 1552 dimensions yielded the lowest misclassification error", 
      "user_user_cf = CFilter(ratings_train, userembedding, 20)", 
      "uurattrain = user_user_cf.get_user_cf_rating(ratings_train)", 
      "", 
      "itemembedding = pca(ratings_train[['userid', 'itemid', 'rating']], 122, 1).real # 122 for this case", 
      "item_item_cf = CFilter_item(ratings_train, itemembedding, 20)", 
      "iirattrain = item_item_cf.get_item_cf_rating(ratings_train)", 
      "", 
      "# Load the test data and compute collaborative filtering ratings on the test data.", 
      "ratings_test = pd.load('proc_data/ratings_test.pda')", 
      "uurattest = user_user_cf.get_user_cf_rating(ratings_test)", 
      "iirattest = item_item_cf.get_item_cf_rating(ratings_test)", 
      "", 
      "# Drop the itemid, userid and ratings columns from both the test and train data.", 
      "for column in ['userid', 'itemid', 'rating']:", 
      "    ratings_train.pop(column)", 
      "    ratings_test.pop(column)", 
      "    ", 
      "# Attach the new columns corresponding to the collaborative filtering predictions.", 
      "# The new ratings are discretized between 0 and 5, in .25-wide bins", 
      "ratings_train['cf_user_rating'] = pd.cut(uurattrain,np.arange(-1,6,.25))", 
      "ratings_train['cf_item_rating'] = pd.cut(iirattrain,np.arange(-1,6,.25))", 
      "ratings_test['cf_user_rating'] = pd.cut(uurattest,np.arange(-1,6,.25))", 
      "ratings_test['cf_item_rating'] = pd.cut(iirattest,np.arange(-1,6,.25))", 
      "", 
      "# Dump both altered datasets to disk. They are now ready for the prediction task.", 
      "", 
      "fp1 = open('proc_data/prediction_ready_trainDat.pkl', 'wb')", 
      "fp2 = open('proc_data/prediction_ready_testDat.pkl', 'wb')", 
      "pkl.dump(ratings_train, fp1)", 
      "pkl.dump(ratings_test, fp2)", 
      "fp2.close()", 
      "fp1.close()"
     ], 
     "language": "python", 
     "outputs": [], 
     "prompt_number": 19
    }, 
    {
     "cell_type": "markdown", 
     "source": [
      "The next step consists of training our best classifier from PP03 on the prediction-ready training data. That classifier was a set of boosted decision stumps.", 
      "Since the training phase is very computationally intensive, we will not run it in an iPython notebook code cell. The adaboost code we use is the same as ", 
      "the one we used in PP03 with great success, yielding a mean F-score of about 73%. The following MarkDown cell contains the code for the main function that", 
      "we used in order to train our stumps:"
     ]
    }, 
    {
     "cell_type": "markdown", 
     "source": [
      "<pre><code>", 
      "import os", 
      "import pickle as pkl", 
      "", 
      "if __name__ == \"__main__\":", 
      "    ", 
      "   os.chdir(\"../\")", 
      "        ", 
      "   # load training and testing data from disk", 
      "   trainData = pd.load('proc_data/prediction_ready_trainDat.pkl')", 
      "   testData = pd.load('proc_data/prediction_ready_testDat.pkl')", 
      "        ", 
      "   # train boosted classifiers", 
      "   print \"Training boosted classifiers...\"", 
      "   boostedTrees , adaptiveParams = adaboost(trainData, 50)", 
      "   print \"Trained 50 classifiers and retrieved relevant adaptive parameters. We will now store all this data on disk.\"", 
      "   fp1 = open('proc_data/boostedClassifiers.pda', 'wb')", 
      "   fp2 = open('proc_data/adaptiveParams.pda', 'wb')", 
      "   pkl.dump(adaptiveParams, fp2)", 
      "   pkl.dump(boostedTrees, fp1)", 
      "   fp2.close()", 
      "   fp1.close()", 
      "", 
      "</code></pre>"
     ]
    }, 
    {
     "cell_type": "markdown", 
     "source": [
      "We may now use the following code to unpickle the objects stored on disk from the training phase and test it on data. We will use the exact same", 
      "evaluation method used in PP03: First of all, the label of every example in AdaBoost is computed as the sign of the weighted sum of the predictions of ", 
      "every classifier weighted by the respective adaptive parameter. Second, we will take the mean bootstrapped F-score over K=1000 folds of the testing data."
     ]
    }, 
    {
     "cell_type": "code", 
     "collapsed": false, 
     "input": [
      "from util.bootstrapEval import *", 
      "testData = pd.load('proc_data/prediction_ready_testDat.pkl')", 
      "fp1 = open('proc_data/boostedClassifiers.pda', 'rb')", 
      "fp2 = open('proc_data/adaptiveParams.pda', 'rb')", 
      "boostedTrees = pkl.load(fp1)", 
      "adaptiveParams = pkl.load(fp2)", 
      "fp2.close()", 
      "fp1.close()", 
      "print \"Getting predictions...\"", 
      "adaboostPredictionMatrix = np.array([tree.predict(testData) for tree in boostedTrees]).transpose()", 
      "adaboostVotedLabels = [np.sign(np.sum(adaptiveParams * adaboostPredictionMatrix[j])) for j in range(adaboostPredictionMatrix.shape[0])]", 
      "", 
      "if len(adaboostVotedLabels) != testData.shape[0]:", 
      "    raise LogicalError, \"Method %s: Predicted labels have to be as many as the testing examples.\" %(inspect.stack()[0][3])", 
      "", 
      "misclassifications = [ex for ex in range(len(testData['isgood'].values)) if testData['isgood'].values[ex] != adaboostVotedLabels[ex]]", 
      "errorRate = len(misclassifications) / float(len(adaboostVotedLabels))", 
      "print \"Error rate yielded: %.4f%%.\"  %(100*errorRate) "
     ], 
     "language": "python", 
     "outputs": [
      {
       "output_type": "stream", 
       "stream": "stdout", 
       "text": [
        "Getting predictions...", 
        "Error rate yielded: 49.4220%."
       ]
      }, 
      {
       "output_type": "stream", 
       "stream": "stdout", 
       "text": [
        ""
       ]
      }
     ], 
     "prompt_number": 25
    }, 
    {
     "cell_type": "markdown", 
     "source": [
      "This is a significant error rate: It means that, given the low-dimensional embeddings used, we can only do slightly better than chance. Let's see how this", 
      "compares to the boosted classifiers of PP03, where the full dimensionality of users and movies was given (note that this constitutes a different ", 
      "evaluation method for these classifiers than the one employed in PP03, which involved bootstrapped F-score over 1000 folds of the testing data):"
     ]
    }, 
    {
     "cell_type": "code", 
     "collapsed": false, 
     "input": [
      "testData = pd.load('proc_data/prediction_ready_testDat_PP03.pkl')", 
      "fp1 = open('proc_data/boostedClassifiers_PP03.pda', 'rb')", 
      "fp2 = open('proc_data/adaptiveParams_PP03.pda', 'rb')", 
      "boostedTrees = pkl.load(fp1)", 
      "adaptiveParams = pkl.load(fp2)", 
      "fp2.close()", 
      "fp1.close()", 
      "print \"Getting predictions...\"", 
      "adaboostPredictionMatrix = np.array([tree.predict(testData) for tree in boostedTrees]).transpose()", 
      "adaboostVotedLabels = [np.sign(np.sum(adaptiveParams * adaboostPredictionMatrix[j])) for j in range(adaboostPredictionMatrix.shape[0])]", 
      "", 
      "if len(adaboostVotedLabels) != testData.shape[0]:", 
      "    raise LogicalError, \"Method %s: Predicted labels have to be as many as the testing examples.\" %(inspect.stack()[0][3])", 
      "", 
      "misclassifications = [ex for ex in range(len(testData['isgood'].values)) if testData['isgood'].values[ex] != adaboostVotedLabels[ex]]", 
      "errorRate = len(misclassifications) / float(len(adaboostVotedLabels))", 
      "print \"Error rate yielded: %.4f%%.\"  %(100*errorRate) "
     ], 
     "language": "python", 
     "outputs": [
      {
       "output_type": "stream", 
       "stream": "stdout", 
       "text": [
        "Getting predictions...", 
        "Error rate yielded: 42.0042%."
       ]
      }, 
      {
       "output_type": "stream", 
       "stream": "stdout", 
       "text": [
        ""
       ]
      }
     ], 
     "prompt_number": 26
    }, 
    {
     "cell_type": "markdown", 
     "source": [
      "The fully dimensional data fares better, as expected."
     ]
    }, 
    {
     "cell_type": "markdown", 
     "source": [
      "###Part III: Ratings challenge", 
      "", 
      "Q6: Submit a classifier for a final semester contest. The goal is to predict ratings (1-5, not isgood). You are free to use any method or code you choose. The only constriaint is that your classifier", 
      "has the following signature:", 
      "", 
      "<pre>", 
      "<code>", 
      "def rating_class(df, ratings):", 
      "\"\"\"", 
      "Build a movie rating predictor", 
      "", 
      "Arguments:", 
      "df: a pandas DataFrame with the same features as the data in PA03 (it may not contain the isgood column so you shouldn't refer to it) without the ratings column.", 
      "ratings: a pandas Series with ratings between 1-5", 
      "", 
      "Returns:", 
      "An object with a predict method as described below", 
      "\"\"\"", 
      "</code>", 
      "</pred>"
     ]
    }, 
    {
     "cell_type": "markdown", 
     "source": [
      "The function should return an object with a `predict` method with the following signature:", 
      "", 
      "<pre>", 
      "<code>", 
      "def predict(df):", 
      "\"\"\"", 
      "Predict movie ratings for dataframe df", 
      "", 
      "Arguments:", 
      "df: a pandas DataFrame with the same features as the data in PA03 (it may not contain the isgood column so you shouldn't refer to it)", 
      "", 
      "Returns:", 
      "Predictions (between 1-5) for each of the user-movie pairs in df", 
      "\"\"\"", 
      "</code>", 
      "</pre>"
     ]
    }, 
    {
     "cell_type": "markdown", 
     "source": [
      "We will evaluate your classifier using mean squared error (your classifier can return any real number between 1-5). Please describe how your", 
      "method predicts ratings."
     ]
    }, 
    {
     "cell_type": "markdown", 
     "source": [
      "###Response:", 
      "", 
      "In PP03, we were very impressed with the performance of AdaBoost. We were able to beat all other models in terms of bootstrapped F-score by at least 2% and the", 
      "computational cost that we paid for this was that of training 50 decision stumps (i.e it was minimal). For this particular challenge, originaly we pursued the ", 
      "idea of using AdaBoost to boost **strong** learners, instead of weak learners. To that end, we began training 75 boosted decision trees of maximum depth 10. ", 
      "Unfortunately, it quickly became evident that we would not be able to submit our classifier on time for the final challenge because of the tuning phase", 
      "required , so instead we boosted 200 decision stumps."
     ]
    }, 
    {
     "cell_type": "markdown", 
     "source": [
      "The following is our implementation of the rating_class method:"
     ]
    }, 
    {
     "cell_type": "markdown", 
     "source": [
      "<code><pre>", 
      "def rating_class(df, ratings):", 
      "    \"\"\"", 
      "    Build a movie rating predictor", 
      "    ", 
      "    ", 
      "    Arguments:", 
      "    df: a pandas DataFrame with the same features as the data in PA03 (it may not contain the isgood column so you shouldn't refer to it) without the ratings column.", 
      "    ratings: a pandas Series with ratings between 1-5", 
      "    ", 
      "    ", 
      "    Returns:", 
      "    An object with a predict method as described in the project description", 
      "    \"\"\"", 
      "  ", 
      "    # The decision tree code needs the \"ratings\" column so that it can", 
      "    # perform tuning. Therefore, if it's not already there, we", 
      "    # will just append the Series to the end of the dataframe", 
      "    # before initializating our ratings predictor.", 
      "      ", 
      "    if 'rating' not in df.columns.values:", 
      "        rp = RatingPredictor(df.join(ratings))    ", 
      "    else:", 
      "        rp = RatingPredictor(df)", 
      "    rp.train()", 
      "    return rp", 
      "</pre></code>"
     ]
    }, 
    {
     "cell_type": "markdown", 
     "source": [
      "The \"RatingPredictor\" class referenced is fully defined as follows:"
     ]
    }, 
    {
     "cell_type": "markdown", 
     "source": [
      "<code><pre>", 
      "class RatingPredictor(object):", 
      "    '''", 
      "    A class that will be used for predictions", 
      "    in the final semester challenge.", 
      "    '''", 
      "    ", 
      "    def __init__(self, data):", 
      "        ", 
      "        '''", 
      "        Initialize our predictor.", 
      "         @param df a pandas.DataFrame which *does* contain the column that we want to eventually", 
      "            predict, so that the decision tree code may attain tuning.", 
      "        '''", 
      "        self.trainDat = data", 
      "    ", 
      "    def train(self):", 
      "        ", 
      "        '''", 
      "        Adaboost, where 75 strong classifiers (decision trees with maxdepth = 10) are boosted,", 
      "        will be used.", 
      "        '''", 
      "        self.boostedTrees, self.adaptiveParams = adaboost(self.trainDat, 50)", 
      "        fp1 = open('proc_data/boostedTreesFinalChal.pkl', 'rb')", 
      "        fp2 = open('proc_data/adaptiveParamsFinalChal.pkl', 'rb')", 
      "        pkl.dump(self.boostedTrees, fp1)", 
      "        pkl.dump(self.adaptiveParams, fp2)", 
      "        fp1.close()", 
      "        fp2.close()", 
      "        ", 
      "    def predict(self, df):", 
      "        ", 
      "        \"\"\"", 
      "        Predict movie ratings for dataframe df. Uses the classifiers and the adaptive parameters", 
      "        stored by adaboost to predict every example as a sign of a weighted sum of predictions. ", 
      "        ", 
      "        Arguments:", 
      "        df: a pandas DataFrame with the same features as the data in PA03 (it may not contain the isgood column so you shouldn't refer to it)", 
      "        ", 
      "        Returns:", 
      "        Predictions (between 1-5) for each of the user-movie pairs in df", 
      "        \"\"\"", 
      "       ", 
      "        if 'isgood' in df.columns.values:", 
      "            df.pop('isgood')", 
      "        ", 
      "        #trueLabs = df['rating'].values", 
      "        print \"Getting predictions...\"", 
      "        adaboostPredictionMatrix = np.array([tree.predict(df) for tree in self.boostedTrees]).transpose()", 
      "        adaboostVotedLabels = [np.sign(np.sum(self.adaptiveParams * adaboostPredictionMatrix[j])) for j in range(adaboostPredictionMatrix.shape[0])]", 
      "        return adaboostVotedLabels", 
      "</pre></code>"
     ]
    }, 
    {
     "cell_type": "markdown", 
     "source": [
      "###How to get predictions from this classifier", 
      "", 
      "Because the training phase of this classifier is rather lengthy, we have pickled the object to disk. The following example code cell shows how to load our", 
      "classifier from disk, get predictions and calculate mean square error:"
     ]
    }, 
    {
     "cell_type": "code", 
     "collapsed": true, 
     "input": [
      "# The following assumes that the dataframe \"testdf\" has been", 
      "# somehow provided by the instructors", 
      "trueRatings = testdf['rating'].values", 
      "fp = open('proc_data/ratingPredictor.pkl', 'rb')", 
      "predictor = pkl.load(fp)", 
      "fp.close()", 
      "predictions = predictor.predict(testdf)", 
      "avgSqLoss = np.sum(np.square(trueRatings - predictions)) / len(predictions)", 
      "print \"Mean squared error: %.8f.\" %(avgSqLoss)"
     ], 
     "language": "python", 
     "outputs": []
    }
   ]
  }
 ]
}